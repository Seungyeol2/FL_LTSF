{
 "cells": [
  {
   "cell_type": "code",
   "execution_count": 192,
   "id": "d5a91315",
   "metadata": {},
   "outputs": [],
   "source": [
    "import numpy as np\n",
    "import h5py\n",
    "import torch\n",
    "import torch.optim as optim\n",
    "from tqdm import tqdm\n",
    "import copy\n",
    "import pandas as pd\n",
    "import sys\n",
    "import random\n",
    "import os\n",
    "from torch.utils.data import Dataset, DataLoader\n",
    "\n",
    "import matplotlib.pyplot as plt\n",
    "\n",
    "\n",
    "\n",
    "sys.path.append('../')\n",
    "from utils.misc import args_parser, average_weights\n",
    "from utils.misc import get_data, process_isolated\n",
    "from utils.models import LSTM\n",
    "from utils.fed_update import LocalUpdate, test_inference\n",
    "from sklearn import metrics"
   ]
  },
  {
   "cell_type": "code",
   "execution_count": 193,
   "id": "a873c322",
   "metadata": {},
   "outputs": [],
   "source": [
    "close_size = 3\n",
    "period_size = 3\n",
    "out_dim = 1\n",
    "test_days = 7\n",
    "val_days = 0\n",
    "seed = 1\n",
    "bs = 100\n",
    "frac = 0.1\n",
    "fedsgd = 1\n",
    "local_bs = 20\n",
    "epochs = 10"
   ]
  },
  {
   "cell_type": "code",
   "execution_count": 211,
   "id": "7ed412e6",
   "metadata": {},
   "outputs": [],
   "source": [
    "def get_data(args):\n",
    "    path = os.getcwd()\n",
    "    f = h5py.File(path + '/dataset/' + args, 'r')\n",
    "\n",
    "    idx = f['idx'][()]\n",
    "    cell = f['cell'][()]\n",
    "    lng = f['lng'][()]\n",
    "    lat = f['lat'][()]\n",
    "    data = f['call'][()][:, cell - 1]\n",
    "\n",
    "    df = pd.DataFrame(data, index=pd.to_datetime(idx.ravel(), unit='s'), columns=cell)\n",
    "    df.fillna(0, inplace=True)\n",
    "    print(df)\n",
    "\n",
    "    random.seed(seed)\n",
    "    cell_pool = cell\n",
    "    selected_cells = sorted(random.sample(list(cell_pool), bs))\n",
    "    selected_cells_idx = np.where(np.isin(list(cell), selected_cells))\n",
    "    cell_lng = lng[selected_cells_idx]\n",
    "    cell_lat = lat[selected_cells_idx]\n",
    "    # print('Selected cells:', selected_cells)\n",
    "\n",
    "    df_cells = df[selected_cells]\n",
    "    # print(df_cells.head())\n",
    "\n",
    "    train_data = df_cells.iloc[:-test_days * 24]\n",
    "\n",
    "    mean = train_data.mean()\n",
    "    std = train_data.std()\n",
    "\n",
    "    normalized_df = (df_cells - mean) / std\n",
    "\n",
    "    return normalized_df, df_cells, selected_cells, mean, std, cell_lng, cell_lat\n"
   ]
  },
  {
   "cell_type": "code",
   "execution_count": 212,
   "id": "968c4506",
   "metadata": {},
   "outputs": [
    {
     "name": "stdout",
     "output_type": "stream",
     "text": [
      "                     1      2      3      4      5      6      7      8      \\\n",
      "2013-11-04 00:00:00  0.271  0.275  0.280  0.258  0.240  0.280  0.280  0.280   \n",
      "2013-11-04 01:00:00  0.029  0.028  0.027  0.032  0.035  0.027  0.027  0.027   \n",
      "2013-11-04 02:00:00  0.002  0.001  0.000  0.004  0.005  0.000  0.000  0.000   \n",
      "2013-11-04 03:00:00  0.002  0.001  0.000  0.004  0.005  0.000  0.000  0.000   \n",
      "2013-11-04 04:00:00  0.084  0.083  0.082  0.086  0.076  0.082  0.082  0.082   \n",
      "...                    ...    ...    ...    ...    ...    ...    ...    ...   \n",
      "2013-12-29 19:00:00  6.700  6.822  6.952  6.348  5.892  6.952  6.952  6.952   \n",
      "2013-12-29 20:00:00  5.301  5.358  5.418  5.136  4.767  5.418  5.418  5.418   \n",
      "2013-12-29 21:00:00  4.537  4.583  4.632  4.404  4.068  4.632  4.632  4.632   \n",
      "2013-12-29 22:00:00  1.554  1.572  1.591  1.503  1.389  1.591  1.591  1.591   \n",
      "2013-12-29 23:00:00  0.770  0.776  0.783  0.750  0.703  0.783  0.783  0.783   \n",
      "\n",
      "                     9      10     ...   9991    9992    9993    9994   \\\n",
      "2013-11-04 00:00:00  0.280  0.208  ...   1.659   2.509   3.743   3.534   \n",
      "2013-11-04 01:00:00  0.027  0.038  ...   1.350   1.808   2.302   1.968   \n",
      "2013-11-04 02:00:00  0.000  0.000  ...   2.267   1.813   1.061   0.863   \n",
      "2013-11-04 03:00:00  0.000  0.000  ...   1.415   1.087   0.444   0.198   \n",
      "2013-11-04 04:00:00  0.082  0.031  ...   0.000   0.133   0.348   0.335   \n",
      "...                    ...    ...  ...     ...     ...     ...     ...   \n",
      "2013-12-29 19:00:00  6.952  5.225  ...  25.356  24.603  22.764  20.133   \n",
      "2013-12-29 20:00:00  5.418  3.877  ...  20.446  18.184  15.050  13.700   \n",
      "2013-12-29 21:00:00  4.632  3.212  ...  14.998  14.122  12.566  11.858   \n",
      "2013-12-29 22:00:00  1.591  1.117  ...   8.931   7.662   5.444   4.571   \n",
      "2013-12-29 23:00:00  0.783  0.586  ...   6.065   5.000   3.129   2.338   \n",
      "\n",
      "                      9995    9996    9997    9998    9999    10000  \n",
      "2013-11-04 00:00:00   2.806   1.421   1.497   1.470   0.993   0.820  \n",
      "2013-11-04 01:00:00   1.339   0.579   0.400   0.428   0.641   0.720  \n",
      "2013-11-04 02:00:00   0.548   0.326   0.581   0.526   0.013   0.000  \n",
      "2013-11-04 03:00:00   0.338   0.222   0.157   0.171   0.144   0.005  \n",
      "2013-11-04 04:00:00   0.340   0.382   0.448   0.434   0.240   0.213  \n",
      "...                     ...     ...     ...     ...     ...     ...  \n",
      "2013-12-29 19:00:00  21.459  21.909  22.691  22.515  17.588  16.536  \n",
      "2013-12-29 20:00:00  16.658  18.243  18.834  18.712  14.073  12.221  \n",
      "2013-12-29 21:00:00  12.653  13.241  13.307  13.294  10.649   9.222  \n",
      "2013-12-29 22:00:00   6.347   8.638   9.467   9.317   6.024   4.637  \n",
      "2013-12-29 23:00:00   3.353   5.407   6.410   6.218   3.388   2.594  \n",
      "\n",
      "[1344 rows x 9953 columns]\n"
     ]
    }
   ],
   "source": [
    "df,ori_df,df_s,_,_,_,_ = get_data(\"milano.h5\")\n"
   ]
  },
  {
   "cell_type": "code",
   "execution_count": 214,
   "id": "a28e1c7c",
   "metadata": {},
   "outputs": [],
   "source": [
    "def standardization(train_df, test_df, not_col, target):\n",
    "    train_df_ = train_df.copy()\n",
    "    test_df_ = test_df.copy()\n",
    "    col =  [col for col in list(train_df.columns) if col not in [not_col]]\n",
    "    mean_list = []\n",
    "    std_list = []\n",
    "    for x in col:\n",
    "        mean, std = train_df_.agg([\"mean\", \"std\"]).loc[:,x]\n",
    "        mean_list.append(mean)\n",
    "        std_list.append(std)\n",
    "        train_df_.loc[:, x] = (train_df_[x] - mean) / std\n",
    "        test_df_.loc[:, x] = (test_df_[x] - mean) / std\n",
    "    return train_df_, test_df_, mean_list[col.index(target)], std_list[col.index(target)]\n",
    "\n",
    "\n",
    "def time_slide_df(df, window_size, forcast_size, date, target):\n",
    "    df_ = df.copy()\n",
    "    data_list = []\n",
    "    dap_list = []\n",
    "    date_list = []\n",
    "    for idx in range(0, df_.shape[0]-window_size-forcast_size+1):\n",
    "        x = df_.loc[idx:idx+window_size-1, target].values.reshape(window_size, 1)\n",
    "        y = df_.loc[idx+window_size:idx+window_size+forcast_size-1, target].values\n",
    "        date_ = df_.loc[idx+window_size:idx+window_size+forcast_size-1, date].values\n",
    "        data_list.append(x)\n",
    "        dap_list.append(y)\n",
    "        date_list.append(date_)\n",
    "    return np.array(data_list, dtype='float32'), np.array(dap_list, dtype='float32'), np.array(date_list)\n",
    "\n",
    "class Data(Dataset):\n",
    "    def __init__(self, X, Y):\n",
    "        self.X = X\n",
    "        self.Y = Y\n",
    "\n",
    "    def __len__(self):\n",
    "        return len(self.Y)\n",
    "    \n",
    "    def __getitem__(self, idx):\n",
    "        return self.X[idx], self.Y[idx]"
   ]
  },
  {
   "cell_type": "code",
   "execution_count": 215,
   "id": "99908f06",
   "metadata": {},
   "outputs": [],
   "source": [
    "df_reset = ori_df.reset_index()"
   ]
  },
  {
   "cell_type": "code",
   "execution_count": 216,
   "id": "c340674e",
   "metadata": {},
   "outputs": [],
   "source": [
    "df_reset = df_reset.rename(columns={'index': 'date_time'})\n"
   ]
  },
  {
   "cell_type": "code",
   "execution_count": 217,
   "id": "048b60fa",
   "metadata": {},
   "outputs": [
    {
     "data": {
      "text/html": [
       "<div>\n",
       "<style scoped>\n",
       "    .dataframe tbody tr th:only-of-type {\n",
       "        vertical-align: middle;\n",
       "    }\n",
       "\n",
       "    .dataframe tbody tr th {\n",
       "        vertical-align: top;\n",
       "    }\n",
       "\n",
       "    .dataframe thead th {\n",
       "        text-align: right;\n",
       "    }\n",
       "</style>\n",
       "<table border=\"1\" class=\"dataframe\">\n",
       "  <thead>\n",
       "    <tr style=\"text-align: right;\">\n",
       "      <th></th>\n",
       "      <th>date_time</th>\n",
       "      <th>35</th>\n",
       "      <th>157</th>\n",
       "      <th>214</th>\n",
       "      <th>370</th>\n",
       "      <th>383</th>\n",
       "      <th>436</th>\n",
       "      <th>484</th>\n",
       "      <th>495</th>\n",
       "      <th>504</th>\n",
       "      <th>...</th>\n",
       "      <th>9106</th>\n",
       "      <th>9164</th>\n",
       "      <th>9373</th>\n",
       "      <th>9514</th>\n",
       "      <th>9520</th>\n",
       "      <th>9674</th>\n",
       "      <th>9698</th>\n",
       "      <th>9733</th>\n",
       "      <th>9766</th>\n",
       "      <th>10000</th>\n",
       "    </tr>\n",
       "  </thead>\n",
       "  <tbody>\n",
       "    <tr>\n",
       "      <th>0</th>\n",
       "      <td>2013-11-04 00:00:00</td>\n",
       "      <td>0.364</td>\n",
       "      <td>0.487</td>\n",
       "      <td>0.078</td>\n",
       "      <td>0.901</td>\n",
       "      <td>0.235</td>\n",
       "      <td>0.352</td>\n",
       "      <td>0.196</td>\n",
       "      <td>0.531</td>\n",
       "      <td>0.066</td>\n",
       "      <td>...</td>\n",
       "      <td>0.847</td>\n",
       "      <td>3.553</td>\n",
       "      <td>5.802</td>\n",
       "      <td>0.675</td>\n",
       "      <td>1.131</td>\n",
       "      <td>1.202</td>\n",
       "      <td>1.230</td>\n",
       "      <td>0.069</td>\n",
       "      <td>0.897</td>\n",
       "      <td>0.820</td>\n",
       "    </tr>\n",
       "    <tr>\n",
       "      <th>1</th>\n",
       "      <td>2013-11-04 01:00:00</td>\n",
       "      <td>0.216</td>\n",
       "      <td>0.417</td>\n",
       "      <td>0.028</td>\n",
       "      <td>0.293</td>\n",
       "      <td>0.037</td>\n",
       "      <td>0.036</td>\n",
       "      <td>1.028</td>\n",
       "      <td>0.192</td>\n",
       "      <td>0.028</td>\n",
       "      <td>...</td>\n",
       "      <td>0.131</td>\n",
       "      <td>0.868</td>\n",
       "      <td>2.101</td>\n",
       "      <td>0.342</td>\n",
       "      <td>0.475</td>\n",
       "      <td>0.403</td>\n",
       "      <td>0.184</td>\n",
       "      <td>0.069</td>\n",
       "      <td>0.716</td>\n",
       "      <td>0.720</td>\n",
       "    </tr>\n",
       "    <tr>\n",
       "      <th>2</th>\n",
       "      <td>2013-11-04 02:00:00</td>\n",
       "      <td>0.134</td>\n",
       "      <td>0.088</td>\n",
       "      <td>0.031</td>\n",
       "      <td>0.663</td>\n",
       "      <td>0.004</td>\n",
       "      <td>0.025</td>\n",
       "      <td>0.000</td>\n",
       "      <td>0.082</td>\n",
       "      <td>0.036</td>\n",
       "      <td>...</td>\n",
       "      <td>0.043</td>\n",
       "      <td>0.007</td>\n",
       "      <td>0.339</td>\n",
       "      <td>0.089</td>\n",
       "      <td>0.051</td>\n",
       "      <td>0.321</td>\n",
       "      <td>0.092</td>\n",
       "      <td>0.000</td>\n",
       "      <td>0.298</td>\n",
       "      <td>0.000</td>\n",
       "    </tr>\n",
       "    <tr>\n",
       "      <th>3</th>\n",
       "      <td>2013-11-04 03:00:00</td>\n",
       "      <td>0.000</td>\n",
       "      <td>0.154</td>\n",
       "      <td>0.013</td>\n",
       "      <td>0.448</td>\n",
       "      <td>0.051</td>\n",
       "      <td>0.119</td>\n",
       "      <td>0.053</td>\n",
       "      <td>0.236</td>\n",
       "      <td>0.020</td>\n",
       "      <td>...</td>\n",
       "      <td>0.043</td>\n",
       "      <td>0.588</td>\n",
       "      <td>0.301</td>\n",
       "      <td>0.065</td>\n",
       "      <td>0.089</td>\n",
       "      <td>0.000</td>\n",
       "      <td>0.767</td>\n",
       "      <td>0.069</td>\n",
       "      <td>0.094</td>\n",
       "      <td>0.005</td>\n",
       "    </tr>\n",
       "    <tr>\n",
       "      <th>4</th>\n",
       "      <td>2013-11-04 04:00:00</td>\n",
       "      <td>0.134</td>\n",
       "      <td>0.002</td>\n",
       "      <td>0.020</td>\n",
       "      <td>0.000</td>\n",
       "      <td>0.069</td>\n",
       "      <td>0.070</td>\n",
       "      <td>0.048</td>\n",
       "      <td>0.192</td>\n",
       "      <td>0.028</td>\n",
       "      <td>...</td>\n",
       "      <td>0.123</td>\n",
       "      <td>0.692</td>\n",
       "      <td>0.618</td>\n",
       "      <td>0.121</td>\n",
       "      <td>0.137</td>\n",
       "      <td>0.358</td>\n",
       "      <td>0.092</td>\n",
       "      <td>0.000</td>\n",
       "      <td>0.330</td>\n",
       "      <td>0.213</td>\n",
       "    </tr>\n",
       "    <tr>\n",
       "      <th>...</th>\n",
       "      <td>...</td>\n",
       "      <td>...</td>\n",
       "      <td>...</td>\n",
       "      <td>...</td>\n",
       "      <td>...</td>\n",
       "      <td>...</td>\n",
       "      <td>...</td>\n",
       "      <td>...</td>\n",
       "      <td>...</td>\n",
       "      <td>...</td>\n",
       "      <td>...</td>\n",
       "      <td>...</td>\n",
       "      <td>...</td>\n",
       "      <td>...</td>\n",
       "      <td>...</td>\n",
       "      <td>...</td>\n",
       "      <td>...</td>\n",
       "      <td>...</td>\n",
       "      <td>...</td>\n",
       "      <td>...</td>\n",
       "      <td>...</td>\n",
       "    </tr>\n",
       "    <tr>\n",
       "      <th>1339</th>\n",
       "      <td>2013-12-29 19:00:00</td>\n",
       "      <td>3.220</td>\n",
       "      <td>3.275</td>\n",
       "      <td>1.320</td>\n",
       "      <td>18.849</td>\n",
       "      <td>2.857</td>\n",
       "      <td>3.277</td>\n",
       "      <td>1.256</td>\n",
       "      <td>2.194</td>\n",
       "      <td>1.923</td>\n",
       "      <td>...</td>\n",
       "      <td>18.824</td>\n",
       "      <td>38.930</td>\n",
       "      <td>37.929</td>\n",
       "      <td>10.404</td>\n",
       "      <td>18.690</td>\n",
       "      <td>30.402</td>\n",
       "      <td>34.871</td>\n",
       "      <td>4.032</td>\n",
       "      <td>25.135</td>\n",
       "      <td>16.536</td>\n",
       "    </tr>\n",
       "    <tr>\n",
       "      <th>1340</th>\n",
       "      <td>2013-12-29 20:00:00</td>\n",
       "      <td>3.784</td>\n",
       "      <td>2.618</td>\n",
       "      <td>1.335</td>\n",
       "      <td>8.199</td>\n",
       "      <td>2.105</td>\n",
       "      <td>2.770</td>\n",
       "      <td>0.753</td>\n",
       "      <td>1.445</td>\n",
       "      <td>2.209</td>\n",
       "      <td>...</td>\n",
       "      <td>14.064</td>\n",
       "      <td>26.341</td>\n",
       "      <td>34.612</td>\n",
       "      <td>9.386</td>\n",
       "      <td>15.987</td>\n",
       "      <td>18.657</td>\n",
       "      <td>20.930</td>\n",
       "      <td>2.137</td>\n",
       "      <td>18.712</td>\n",
       "      <td>12.221</td>\n",
       "    </tr>\n",
       "    <tr>\n",
       "      <th>1341</th>\n",
       "      <td>2013-12-29 21:00:00</td>\n",
       "      <td>2.308</td>\n",
       "      <td>2.205</td>\n",
       "      <td>0.823</td>\n",
       "      <td>9.456</td>\n",
       "      <td>1.230</td>\n",
       "      <td>1.737</td>\n",
       "      <td>0.436</td>\n",
       "      <td>0.576</td>\n",
       "      <td>1.544</td>\n",
       "      <td>...</td>\n",
       "      <td>9.984</td>\n",
       "      <td>27.745</td>\n",
       "      <td>21.567</td>\n",
       "      <td>6.939</td>\n",
       "      <td>12.695</td>\n",
       "      <td>14.073</td>\n",
       "      <td>16.111</td>\n",
       "      <td>2.040</td>\n",
       "      <td>15.019</td>\n",
       "      <td>9.222</td>\n",
       "    </tr>\n",
       "    <tr>\n",
       "      <th>1342</th>\n",
       "      <td>2013-12-29 22:00:00</td>\n",
       "      <td>1.358</td>\n",
       "      <td>1.558</td>\n",
       "      <td>0.393</td>\n",
       "      <td>5.184</td>\n",
       "      <td>0.964</td>\n",
       "      <td>1.084</td>\n",
       "      <td>0.265</td>\n",
       "      <td>0.307</td>\n",
       "      <td>0.582</td>\n",
       "      <td>...</td>\n",
       "      <td>4.540</td>\n",
       "      <td>7.861</td>\n",
       "      <td>10.394</td>\n",
       "      <td>4.046</td>\n",
       "      <td>6.690</td>\n",
       "      <td>5.942</td>\n",
       "      <td>8.980</td>\n",
       "      <td>1.008</td>\n",
       "      <td>10.088</td>\n",
       "      <td>4.637</td>\n",
       "    </tr>\n",
       "    <tr>\n",
       "      <th>1343</th>\n",
       "      <td>2013-12-29 23:00:00</td>\n",
       "      <td>0.986</td>\n",
       "      <td>0.981</td>\n",
       "      <td>0.241</td>\n",
       "      <td>3.122</td>\n",
       "      <td>0.654</td>\n",
       "      <td>0.444</td>\n",
       "      <td>0.063</td>\n",
       "      <td>0.242</td>\n",
       "      <td>0.428</td>\n",
       "      <td>...</td>\n",
       "      <td>2.216</td>\n",
       "      <td>6.032</td>\n",
       "      <td>6.961</td>\n",
       "      <td>2.034</td>\n",
       "      <td>3.749</td>\n",
       "      <td>4.215</td>\n",
       "      <td>4.735</td>\n",
       "      <td>0.507</td>\n",
       "      <td>4.615</td>\n",
       "      <td>2.594</td>\n",
       "    </tr>\n",
       "  </tbody>\n",
       "</table>\n",
       "<p>1344 rows × 101 columns</p>\n",
       "</div>"
      ],
      "text/plain": [
       "               date_time     35    157    214     370    383    436    484  \\\n",
       "0    2013-11-04 00:00:00  0.364  0.487  0.078   0.901  0.235  0.352  0.196   \n",
       "1    2013-11-04 01:00:00  0.216  0.417  0.028   0.293  0.037  0.036  1.028   \n",
       "2    2013-11-04 02:00:00  0.134  0.088  0.031   0.663  0.004  0.025  0.000   \n",
       "3    2013-11-04 03:00:00  0.000  0.154  0.013   0.448  0.051  0.119  0.053   \n",
       "4    2013-11-04 04:00:00  0.134  0.002  0.020   0.000  0.069  0.070  0.048   \n",
       "...                  ...    ...    ...    ...     ...    ...    ...    ...   \n",
       "1339 2013-12-29 19:00:00  3.220  3.275  1.320  18.849  2.857  3.277  1.256   \n",
       "1340 2013-12-29 20:00:00  3.784  2.618  1.335   8.199  2.105  2.770  0.753   \n",
       "1341 2013-12-29 21:00:00  2.308  2.205  0.823   9.456  1.230  1.737  0.436   \n",
       "1342 2013-12-29 22:00:00  1.358  1.558  0.393   5.184  0.964  1.084  0.265   \n",
       "1343 2013-12-29 23:00:00  0.986  0.981  0.241   3.122  0.654  0.444  0.063   \n",
       "\n",
       "        495    504  ...    9106    9164    9373    9514    9520    9674  \\\n",
       "0     0.531  0.066  ...   0.847   3.553   5.802   0.675   1.131   1.202   \n",
       "1     0.192  0.028  ...   0.131   0.868   2.101   0.342   0.475   0.403   \n",
       "2     0.082  0.036  ...   0.043   0.007   0.339   0.089   0.051   0.321   \n",
       "3     0.236  0.020  ...   0.043   0.588   0.301   0.065   0.089   0.000   \n",
       "4     0.192  0.028  ...   0.123   0.692   0.618   0.121   0.137   0.358   \n",
       "...     ...    ...  ...     ...     ...     ...     ...     ...     ...   \n",
       "1339  2.194  1.923  ...  18.824  38.930  37.929  10.404  18.690  30.402   \n",
       "1340  1.445  2.209  ...  14.064  26.341  34.612   9.386  15.987  18.657   \n",
       "1341  0.576  1.544  ...   9.984  27.745  21.567   6.939  12.695  14.073   \n",
       "1342  0.307  0.582  ...   4.540   7.861  10.394   4.046   6.690   5.942   \n",
       "1343  0.242  0.428  ...   2.216   6.032   6.961   2.034   3.749   4.215   \n",
       "\n",
       "        9698   9733    9766   10000  \n",
       "0      1.230  0.069   0.897   0.820  \n",
       "1      0.184  0.069   0.716   0.720  \n",
       "2      0.092  0.000   0.298   0.000  \n",
       "3      0.767  0.069   0.094   0.005  \n",
       "4      0.092  0.000   0.330   0.213  \n",
       "...      ...    ...     ...     ...  \n",
       "1339  34.871  4.032  25.135  16.536  \n",
       "1340  20.930  2.137  18.712  12.221  \n",
       "1341  16.111  2.040  15.019   9.222  \n",
       "1342   8.980  1.008  10.088   4.637  \n",
       "1343   4.735  0.507   4.615   2.594  \n",
       "\n",
       "[1344 rows x 101 columns]"
      ]
     },
     "execution_count": 217,
     "metadata": {},
     "output_type": "execute_result"
    }
   ],
   "source": [
    "df_reset"
   ]
  },
  {
   "cell_type": "code",
   "execution_count": 249,
   "id": "9d476ee9",
   "metadata": {},
   "outputs": [],
   "source": [
    "train_df = df_reset.iloc[:-24*7].copy()\n",
    "test_df = df_reset.iloc[-24*7:].copy()\n",
    "targets=504"
   ]
  },
  {
   "cell_type": "code",
   "execution_count": 220,
   "id": "b857e6d4",
   "metadata": {},
   "outputs": [],
   "source": [
    "def restart_index(df):\n",
    "    df_reset_index = df.reset_index(drop=True)\n",
    "    df_reset_index.index = df_reset_index.index\n",
    "    return df_reset_index"
   ]
  },
  {
   "cell_type": "code",
   "execution_count": 223,
   "id": "239e879f",
   "metadata": {},
   "outputs": [
    {
     "data": {
      "text/html": [
       "<div>\n",
       "<style scoped>\n",
       "    .dataframe tbody tr th:only-of-type {\n",
       "        vertical-align: middle;\n",
       "    }\n",
       "\n",
       "    .dataframe tbody tr th {\n",
       "        vertical-align: top;\n",
       "    }\n",
       "\n",
       "    .dataframe thead th {\n",
       "        text-align: right;\n",
       "    }\n",
       "</style>\n",
       "<table border=\"1\" class=\"dataframe\">\n",
       "  <thead>\n",
       "    <tr style=\"text-align: right;\">\n",
       "      <th></th>\n",
       "      <th>date_time</th>\n",
       "      <th>35</th>\n",
       "      <th>157</th>\n",
       "      <th>214</th>\n",
       "      <th>370</th>\n",
       "      <th>383</th>\n",
       "      <th>436</th>\n",
       "      <th>484</th>\n",
       "      <th>495</th>\n",
       "      <th>504</th>\n",
       "      <th>...</th>\n",
       "      <th>9106</th>\n",
       "      <th>9164</th>\n",
       "      <th>9373</th>\n",
       "      <th>9514</th>\n",
       "      <th>9520</th>\n",
       "      <th>9674</th>\n",
       "      <th>9698</th>\n",
       "      <th>9733</th>\n",
       "      <th>9766</th>\n",
       "      <th>10000</th>\n",
       "    </tr>\n",
       "  </thead>\n",
       "  <tbody>\n",
       "    <tr>\n",
       "      <th>0</th>\n",
       "      <td>2013-12-23 00:00:00</td>\n",
       "      <td>0.259</td>\n",
       "      <td>2.693</td>\n",
       "      <td>0.165</td>\n",
       "      <td>1.824</td>\n",
       "      <td>0.174</td>\n",
       "      <td>0.175</td>\n",
       "      <td>0.210</td>\n",
       "      <td>0.214</td>\n",
       "      <td>0.226</td>\n",
       "      <td>...</td>\n",
       "      <td>1.298</td>\n",
       "      <td>4.744</td>\n",
       "      <td>3.111</td>\n",
       "      <td>1.461</td>\n",
       "      <td>2.229</td>\n",
       "      <td>3.013</td>\n",
       "      <td>6.721</td>\n",
       "      <td>0.294</td>\n",
       "      <td>4.079</td>\n",
       "      <td>2.078</td>\n",
       "    </tr>\n",
       "    <tr>\n",
       "      <th>1</th>\n",
       "      <td>2013-12-23 01:00:00</td>\n",
       "      <td>0.000</td>\n",
       "      <td>6.066</td>\n",
       "      <td>0.134</td>\n",
       "      <td>0.370</td>\n",
       "      <td>0.022</td>\n",
       "      <td>0.072</td>\n",
       "      <td>0.011</td>\n",
       "      <td>0.000</td>\n",
       "      <td>0.113</td>\n",
       "      <td>...</td>\n",
       "      <td>0.848</td>\n",
       "      <td>2.076</td>\n",
       "      <td>2.380</td>\n",
       "      <td>0.593</td>\n",
       "      <td>0.657</td>\n",
       "      <td>1.535</td>\n",
       "      <td>2.122</td>\n",
       "      <td>0.207</td>\n",
       "      <td>1.248</td>\n",
       "      <td>1.389</td>\n",
       "    </tr>\n",
       "    <tr>\n",
       "      <th>2</th>\n",
       "      <td>2013-12-23 02:00:00</td>\n",
       "      <td>0.000</td>\n",
       "      <td>0.855</td>\n",
       "      <td>0.057</td>\n",
       "      <td>0.517</td>\n",
       "      <td>0.046</td>\n",
       "      <td>0.027</td>\n",
       "      <td>0.002</td>\n",
       "      <td>0.127</td>\n",
       "      <td>0.065</td>\n",
       "      <td>...</td>\n",
       "      <td>0.328</td>\n",
       "      <td>1.293</td>\n",
       "      <td>4.272</td>\n",
       "      <td>0.281</td>\n",
       "      <td>0.179</td>\n",
       "      <td>2.540</td>\n",
       "      <td>0.278</td>\n",
       "      <td>0.000</td>\n",
       "      <td>0.536</td>\n",
       "      <td>1.657</td>\n",
       "    </tr>\n",
       "    <tr>\n",
       "      <th>3</th>\n",
       "      <td>2013-12-23 03:00:00</td>\n",
       "      <td>0.000</td>\n",
       "      <td>2.477</td>\n",
       "      <td>0.049</td>\n",
       "      <td>0.000</td>\n",
       "      <td>0.002</td>\n",
       "      <td>0.020</td>\n",
       "      <td>0.146</td>\n",
       "      <td>0.176</td>\n",
       "      <td>0.020</td>\n",
       "      <td>...</td>\n",
       "      <td>0.123</td>\n",
       "      <td>1.103</td>\n",
       "      <td>3.229</td>\n",
       "      <td>0.111</td>\n",
       "      <td>0.080</td>\n",
       "      <td>5.039</td>\n",
       "      <td>0.000</td>\n",
       "      <td>0.069</td>\n",
       "      <td>0.031</td>\n",
       "      <td>0.208</td>\n",
       "    </tr>\n",
       "    <tr>\n",
       "      <th>4</th>\n",
       "      <td>2013-12-23 04:00:00</td>\n",
       "      <td>0.000</td>\n",
       "      <td>0.165</td>\n",
       "      <td>0.020</td>\n",
       "      <td>0.146</td>\n",
       "      <td>0.024</td>\n",
       "      <td>0.029</td>\n",
       "      <td>0.147</td>\n",
       "      <td>0.222</td>\n",
       "      <td>0.024</td>\n",
       "      <td>...</td>\n",
       "      <td>0.418</td>\n",
       "      <td>0.588</td>\n",
       "      <td>1.875</td>\n",
       "      <td>0.173</td>\n",
       "      <td>0.161</td>\n",
       "      <td>1.576</td>\n",
       "      <td>0.001</td>\n",
       "      <td>0.000</td>\n",
       "      <td>0.232</td>\n",
       "      <td>0.145</td>\n",
       "    </tr>\n",
       "    <tr>\n",
       "      <th>...</th>\n",
       "      <td>...</td>\n",
       "      <td>...</td>\n",
       "      <td>...</td>\n",
       "      <td>...</td>\n",
       "      <td>...</td>\n",
       "      <td>...</td>\n",
       "      <td>...</td>\n",
       "      <td>...</td>\n",
       "      <td>...</td>\n",
       "      <td>...</td>\n",
       "      <td>...</td>\n",
       "      <td>...</td>\n",
       "      <td>...</td>\n",
       "      <td>...</td>\n",
       "      <td>...</td>\n",
       "      <td>...</td>\n",
       "      <td>...</td>\n",
       "      <td>...</td>\n",
       "      <td>...</td>\n",
       "      <td>...</td>\n",
       "      <td>...</td>\n",
       "    </tr>\n",
       "    <tr>\n",
       "      <th>163</th>\n",
       "      <td>2013-12-29 19:00:00</td>\n",
       "      <td>3.220</td>\n",
       "      <td>3.275</td>\n",
       "      <td>1.320</td>\n",
       "      <td>18.849</td>\n",
       "      <td>2.857</td>\n",
       "      <td>3.277</td>\n",
       "      <td>1.256</td>\n",
       "      <td>2.194</td>\n",
       "      <td>1.923</td>\n",
       "      <td>...</td>\n",
       "      <td>18.824</td>\n",
       "      <td>38.930</td>\n",
       "      <td>37.929</td>\n",
       "      <td>10.404</td>\n",
       "      <td>18.690</td>\n",
       "      <td>30.402</td>\n",
       "      <td>34.871</td>\n",
       "      <td>4.032</td>\n",
       "      <td>25.135</td>\n",
       "      <td>16.536</td>\n",
       "    </tr>\n",
       "    <tr>\n",
       "      <th>164</th>\n",
       "      <td>2013-12-29 20:00:00</td>\n",
       "      <td>3.784</td>\n",
       "      <td>2.618</td>\n",
       "      <td>1.335</td>\n",
       "      <td>8.199</td>\n",
       "      <td>2.105</td>\n",
       "      <td>2.770</td>\n",
       "      <td>0.753</td>\n",
       "      <td>1.445</td>\n",
       "      <td>2.209</td>\n",
       "      <td>...</td>\n",
       "      <td>14.064</td>\n",
       "      <td>26.341</td>\n",
       "      <td>34.612</td>\n",
       "      <td>9.386</td>\n",
       "      <td>15.987</td>\n",
       "      <td>18.657</td>\n",
       "      <td>20.930</td>\n",
       "      <td>2.137</td>\n",
       "      <td>18.712</td>\n",
       "      <td>12.221</td>\n",
       "    </tr>\n",
       "    <tr>\n",
       "      <th>165</th>\n",
       "      <td>2013-12-29 21:00:00</td>\n",
       "      <td>2.308</td>\n",
       "      <td>2.205</td>\n",
       "      <td>0.823</td>\n",
       "      <td>9.456</td>\n",
       "      <td>1.230</td>\n",
       "      <td>1.737</td>\n",
       "      <td>0.436</td>\n",
       "      <td>0.576</td>\n",
       "      <td>1.544</td>\n",
       "      <td>...</td>\n",
       "      <td>9.984</td>\n",
       "      <td>27.745</td>\n",
       "      <td>21.567</td>\n",
       "      <td>6.939</td>\n",
       "      <td>12.695</td>\n",
       "      <td>14.073</td>\n",
       "      <td>16.111</td>\n",
       "      <td>2.040</td>\n",
       "      <td>15.019</td>\n",
       "      <td>9.222</td>\n",
       "    </tr>\n",
       "    <tr>\n",
       "      <th>166</th>\n",
       "      <td>2013-12-29 22:00:00</td>\n",
       "      <td>1.358</td>\n",
       "      <td>1.558</td>\n",
       "      <td>0.393</td>\n",
       "      <td>5.184</td>\n",
       "      <td>0.964</td>\n",
       "      <td>1.084</td>\n",
       "      <td>0.265</td>\n",
       "      <td>0.307</td>\n",
       "      <td>0.582</td>\n",
       "      <td>...</td>\n",
       "      <td>4.540</td>\n",
       "      <td>7.861</td>\n",
       "      <td>10.394</td>\n",
       "      <td>4.046</td>\n",
       "      <td>6.690</td>\n",
       "      <td>5.942</td>\n",
       "      <td>8.980</td>\n",
       "      <td>1.008</td>\n",
       "      <td>10.088</td>\n",
       "      <td>4.637</td>\n",
       "    </tr>\n",
       "    <tr>\n",
       "      <th>167</th>\n",
       "      <td>2013-12-29 23:00:00</td>\n",
       "      <td>0.986</td>\n",
       "      <td>0.981</td>\n",
       "      <td>0.241</td>\n",
       "      <td>3.122</td>\n",
       "      <td>0.654</td>\n",
       "      <td>0.444</td>\n",
       "      <td>0.063</td>\n",
       "      <td>0.242</td>\n",
       "      <td>0.428</td>\n",
       "      <td>...</td>\n",
       "      <td>2.216</td>\n",
       "      <td>6.032</td>\n",
       "      <td>6.961</td>\n",
       "      <td>2.034</td>\n",
       "      <td>3.749</td>\n",
       "      <td>4.215</td>\n",
       "      <td>4.735</td>\n",
       "      <td>0.507</td>\n",
       "      <td>4.615</td>\n",
       "      <td>2.594</td>\n",
       "    </tr>\n",
       "  </tbody>\n",
       "</table>\n",
       "<p>168 rows × 101 columns</p>\n",
       "</div>"
      ],
      "text/plain": [
       "              date_time     35    157    214     370    383    436    484  \\\n",
       "0   2013-12-23 00:00:00  0.259  2.693  0.165   1.824  0.174  0.175  0.210   \n",
       "1   2013-12-23 01:00:00  0.000  6.066  0.134   0.370  0.022  0.072  0.011   \n",
       "2   2013-12-23 02:00:00  0.000  0.855  0.057   0.517  0.046  0.027  0.002   \n",
       "3   2013-12-23 03:00:00  0.000  2.477  0.049   0.000  0.002  0.020  0.146   \n",
       "4   2013-12-23 04:00:00  0.000  0.165  0.020   0.146  0.024  0.029  0.147   \n",
       "..                  ...    ...    ...    ...     ...    ...    ...    ...   \n",
       "163 2013-12-29 19:00:00  3.220  3.275  1.320  18.849  2.857  3.277  1.256   \n",
       "164 2013-12-29 20:00:00  3.784  2.618  1.335   8.199  2.105  2.770  0.753   \n",
       "165 2013-12-29 21:00:00  2.308  2.205  0.823   9.456  1.230  1.737  0.436   \n",
       "166 2013-12-29 22:00:00  1.358  1.558  0.393   5.184  0.964  1.084  0.265   \n",
       "167 2013-12-29 23:00:00  0.986  0.981  0.241   3.122  0.654  0.444  0.063   \n",
       "\n",
       "       495    504  ...    9106    9164    9373    9514    9520    9674  \\\n",
       "0    0.214  0.226  ...   1.298   4.744   3.111   1.461   2.229   3.013   \n",
       "1    0.000  0.113  ...   0.848   2.076   2.380   0.593   0.657   1.535   \n",
       "2    0.127  0.065  ...   0.328   1.293   4.272   0.281   0.179   2.540   \n",
       "3    0.176  0.020  ...   0.123   1.103   3.229   0.111   0.080   5.039   \n",
       "4    0.222  0.024  ...   0.418   0.588   1.875   0.173   0.161   1.576   \n",
       "..     ...    ...  ...     ...     ...     ...     ...     ...     ...   \n",
       "163  2.194  1.923  ...  18.824  38.930  37.929  10.404  18.690  30.402   \n",
       "164  1.445  2.209  ...  14.064  26.341  34.612   9.386  15.987  18.657   \n",
       "165  0.576  1.544  ...   9.984  27.745  21.567   6.939  12.695  14.073   \n",
       "166  0.307  0.582  ...   4.540   7.861  10.394   4.046   6.690   5.942   \n",
       "167  0.242  0.428  ...   2.216   6.032   6.961   2.034   3.749   4.215   \n",
       "\n",
       "       9698   9733    9766   10000  \n",
       "0     6.721  0.294   4.079   2.078  \n",
       "1     2.122  0.207   1.248   1.389  \n",
       "2     0.278  0.000   0.536   1.657  \n",
       "3     0.000  0.069   0.031   0.208  \n",
       "4     0.001  0.000   0.232   0.145  \n",
       "..      ...    ...     ...     ...  \n",
       "163  34.871  4.032  25.135  16.536  \n",
       "164  20.930  2.137  18.712  12.221  \n",
       "165  16.111  2.040  15.019   9.222  \n",
       "166   8.980  1.008  10.088   4.637  \n",
       "167   4.735  0.507   4.615   2.594  \n",
       "\n",
       "[168 rows x 101 columns]"
      ]
     },
     "execution_count": 223,
     "metadata": {},
     "output_type": "execute_result"
    }
   ],
   "source": [
    "test_df = restart_index(test_df)\n",
    "test_df"
   ]
  },
  {
   "cell_type": "code",
   "execution_count": 250,
   "id": "b717f14a",
   "metadata": {},
   "outputs": [
    {
     "data": {
      "image/png": "[encoded data removed]",
      "text/plain": [
       "<Figure size 1000x600 with 1 Axes>"
      ]
     },
     "metadata": {},
     "output_type": "display_data"
    }
   ],
   "source": [
    "plt.figure(figsize=(10, 6))\n",
    "plt.plot(df_reset['date_time'], df_reset[targets])\n",
    "plt.xlabel('Time')\n",
    "plt.ylabel('Traffic Volume')\n",
    "plt.title('Time Series Data')\n",
    "plt.grid(True)\n",
    "plt.show()"
   ]
  },
  {
   "cell_type": "code",
   "execution_count": 239,
   "id": "9dc45bda",
   "metadata": {},
   "outputs": [],
   "source": [
    "### Univariable ###\n",
    "### 데이터 셋 생성 ###\n",
    "window_size = 72\n",
    "forcast_size= 24\n",
    "batch_size = 32\n",
    "targets = 9164\n",
    "date = 'date_time'\n",
    "\n",
    "train_df_fe, test_df_fe, mean_, std_ = standardization(train_df, test_df, 'date_time', targets)\n",
    "train_x, train_y, train_date = time_slide_df(train_df_fe, window_size, forcast_size, date, targets)\n",
    "test_x, test_y, test_date = time_slide_df(test_df_fe, window_size, forcast_size, date, targets)\n"
   ]
  },
  {
   "cell_type": "code",
   "execution_count": 240,
   "id": "5562a50a",
   "metadata": {},
   "outputs": [],
   "source": [
    "\n",
    "train_ds = Data(train_x[:1000], train_y[:1000])\n",
    "valid_ds = Data(train_x[1000:], train_y[1000:])\n",
    "test_ds = Data(test_x, test_y)\n",
    "\n",
    "train_dl = DataLoader(train_ds, batch_size = batch_size, shuffle=True,)\n",
    "\n",
    "valid_dl = DataLoader(valid_ds, batch_size = train_x[1000:].shape[0], shuffle=False)\n",
    "test_dl  = DataLoader(test_ds,  batch_size = test_x.shape[0], shuffle=False)"
   ]
  },
  {
   "cell_type": "code",
   "execution_count": 241,
   "id": "d009c8f5",
   "metadata": {},
   "outputs": [],
   "source": [
    "class LTSF_Linear(torch.nn.Module):\n",
    "    def __init__(self, window_size, forcast_size, individual, feature_size):\n",
    "        super(LTSF_Linear, self).__init__()\n",
    "        self.window_size = window_size\n",
    "        self.forcast_size = forcast_size\n",
    "        self.individual = individual\n",
    "        self.channels = feature_size\n",
    "        if self.individual:\n",
    "            self.Linear = torch.nn.ModuleList()\n",
    "            for i in range(self.channels):\n",
    "                self.Linear.append(torch.nn.Linear(self.window_size, self.forcast_size))\n",
    "        else:\n",
    "            self.Linear = torch.nn.Linear(self.window_size, self.forcast_size)\n",
    "\n",
    "    def forward(self, x):\n",
    "        if self.individual:\n",
    "            output = torch.zeros([x.size(0),self.pred_len,x.size(2)],dtype=x.dtype).to(x.device)\n",
    "            for i in range(self.channels):\n",
    "                output[:,:,i] = self.Linear[i](x[:,:,i])\n",
    "            x = output\n",
    "        else:\n",
    "            x = self.Linear(x.permute(0,2,1)).permute(0,2,1)\n",
    "        return x\n",
    "    \n",
    "class moving_avg(torch.nn.Module):\n",
    "    def __init__(self, kernel_size, stride):\n",
    "        super(moving_avg, self).__init__()\n",
    "        self.kernel_size = kernel_size\n",
    "        self.avg = torch.nn.AvgPool1d(kernel_size=kernel_size, stride=stride, padding=0)\n",
    "\n",
    "    def forward(self, x):\n",
    "        front = x[:, 0:1, :].repeat(1, (self.kernel_size - 1) // 2, 1)\n",
    "        end = x[:, -1:, :].repeat(1, (self.kernel_size - 1) // 2, 1)\n",
    "        x = torch.cat([front, x, end], dim=1)\n",
    "        x = self.avg(x.permute(0, 2, 1))\n",
    "        x = x.permute(0, 2, 1)\n",
    "        return x\n",
    "\n",
    "class series_decomp(torch.nn.Module):\n",
    "    def __init__(self, kernel_size):\n",
    "        super(series_decomp, self).__init__()\n",
    "        self.moving_avg = moving_avg(kernel_size, stride=1)\n",
    "\n",
    "    def forward(self, x):\n",
    "        moving_mean = self.moving_avg(x)\n",
    "        residual = x - moving_mean\n",
    "        return moving_mean, residual \n",
    "        \n",
    "class LTSF_DLinear(torch.nn.Module):\n",
    "    def __init__(self, window_size, forcast_size, kernel_size, individual, feature_size):\n",
    "        super(LTSF_DLinear, self).__init__()\n",
    "        self.window_size = window_size\n",
    "        self.forcast_size = forcast_size\n",
    "        self.decompsition = series_decomp(kernel_size)\n",
    "        self.individual = individual\n",
    "        self.channels = feature_size\n",
    "        if self.individual:\n",
    "            self.Linear_Seasonal = torch.nn.ModuleList()\n",
    "            self.Linear_Trend = torch.nn.ModuleList()\n",
    "            for i in range(self.channels):\n",
    "                self.Linear_Trend.append(torch.nn.Linear(self.window_size, self.forcast_size))\n",
    "                self.Linear_Trend[i].weight = torch.nn.Parameter((1/self.window_size)*torch.ones([self.forcast_size, self.window_size]))\n",
    "                self.Linear_Seasonal.append(torch.nn.Linear(self.window_size, self.forcast_size))\n",
    "                self.Linear_Seasonal[i].weight = torch.nn.Parameter((1/self.window_size)*torch.ones([self.forcast_size, self.window_size]))\n",
    "        else:\n",
    "            self.Linear_Trend = torch.nn.Linear(self.window_size, self.forcast_size)\n",
    "            self.Linear_Trend.weight = torch.nn.Parameter((1/self.window_size)*torch.ones([self.forcast_size, self.window_size]))\n",
    "            self.Linear_Seasonal = torch.nn.Linear(self.window_size,  self.forcast_size)\n",
    "            self.Linear_Seasonal.weight = torch.nn.Parameter((1/self.window_size)*torch.ones([self.forcast_size, self.window_size]))\n",
    "\n",
    "    def forward(self, x):\n",
    "        trend_init, seasonal_init = self.decompsition(x)\n",
    "        trend_init, seasonal_init = trend_init.permute(0,2,1), seasonal_init.permute(0,2,1)\n",
    "        if self.individual:\n",
    "            trend_output = torch.zeros([trend_init.size(0), trend_init.size(1), self.forcast_size], dtype=trend_init.dtype).to(trend_init.device)\n",
    "            seasonal_output = torch.zeros([seasonal_init.size(0), seasonal_init.size(1), self.forcast_size], dtype=seasonal_init.dtype).to(seasonal_init.device)\n",
    "            for idx in range(self.channels):\n",
    "                trend_output[:, idx, :] = self.Linear_Trend[idx](trend_init[:, idx, :])\n",
    "                seasonal_output[:, idx, :] = self.Linear_Seasonal[idx](seasonal_init[:, idx, :])                \n",
    "        else:\n",
    "            trend_output = self.Linear_Trend(trend_init)\n",
    "            seasonal_output = self.Linear_Seasonal(seasonal_init)\n",
    "        x = seasonal_output + trend_output\n",
    "        return x.permute(0,2,1)"
   ]
  },
  {
   "cell_type": "code",
   "execution_count": 242,
   "id": "009754f7",
   "metadata": {},
   "outputs": [
    {
     "name": "stderr",
     "output_type": "stream",
     "text": [
      "  3%|▊                          | 6/200 [00:00<00:07, 26.84it/s]"
     ]
    },
    {
     "name": "stdout",
     "output_type": "stream",
     "text": [
      "valid_loss=0.330, test_los0.345, Model Save\n",
      "epoch = 1, train_loss : 0.546, valid_loss : 0.330, test_loss : 0.345\n",
      "valid_loss=0.262, test_los0.327, Model Save\n",
      "epoch = 2, train_loss : 0.245, valid_loss : 0.262, test_loss : 0.327\n",
      "valid_loss=0.217, test_los0.290, Model Save\n",
      "epoch = 3, train_loss : 0.196, valid_loss : 0.217, test_loss : 0.290\n",
      "valid_loss=0.198, test_los0.284, Model Save\n",
      "epoch = 4, train_loss : 0.170, valid_loss : 0.198, test_loss : 0.284\n",
      "valid_loss=0.185, test_los0.280, Model Save\n",
      "epoch = 5, train_loss : 0.156, valid_loss : 0.185, test_loss : 0.280\n",
      "valid_loss=0.180, test_los0.280, Model Save\n",
      "epoch = 6, train_loss : 0.149, valid_loss : 0.180, test_loss : 0.280\n"
     ]
    },
    {
     "name": "stderr",
     "output_type": "stream",
     "text": [
      "  6%|█▌                        | 12/200 [00:00<00:06, 27.78it/s]"
     ]
    },
    {
     "name": "stdout",
     "output_type": "stream",
     "text": [
      "valid_loss=0.176, test_los0.283, Model Save\n",
      "epoch = 7, train_loss : 0.144, valid_loss : 0.176, test_loss : 0.283\n",
      "valid_loss=0.175, test_los0.283, Model Save\n",
      "epoch = 8, train_loss : 0.143, valid_loss : 0.175, test_loss : 0.283\n",
      "valid_loss=0.171, test_los0.283, Model Save\n",
      "epoch = 9, train_loss : 0.141, valid_loss : 0.171, test_loss : 0.283\n",
      "epoch = 10, train_loss : 0.140, valid_loss : 0.172, test_loss : 0.283\n",
      "epoch = 11, train_loss : 0.139, valid_loss : 0.172, test_loss : 0.284\n",
      "valid_loss=0.170, test_los0.283, Model Save\n",
      "epoch = 12, train_loss : 0.139, valid_loss : 0.170, test_loss : 0.283\n"
     ]
    },
    {
     "name": "stderr",
     "output_type": "stream",
     "text": [
      "  9%|██▎                       | 18/200 [00:00<00:06, 28.13it/s]"
     ]
    },
    {
     "name": "stdout",
     "output_type": "stream",
     "text": [
      "valid_loss=0.170, test_los0.281, Model Save\n",
      "epoch = 13, train_loss : 0.136, valid_loss : 0.170, test_loss : 0.281\n",
      "valid_loss=0.169, test_los0.281, Model Save\n",
      "epoch = 14, train_loss : 0.136, valid_loss : 0.169, test_loss : 0.281\n",
      "epoch = 15, train_loss : 0.136, valid_loss : 0.169, test_loss : 0.282\n",
      "epoch = 16, train_loss : 0.136, valid_loss : 0.171, test_loss : 0.280\n",
      "epoch = 17, train_loss : 0.136, valid_loss : 0.172, test_loss : 0.281\n",
      "epoch = 18, train_loss : 0.135, valid_loss : 0.170, test_loss : 0.275\n"
     ]
    },
    {
     "name": "stderr",
     "output_type": "stream",
     "text": [
      " 12%|███                       | 24/200 [00:00<00:06, 28.23it/s]"
     ]
    },
    {
     "name": "stdout",
     "output_type": "stream",
     "text": [
      "epoch = 19, train_loss : 0.134, valid_loss : 0.171, test_loss : 0.280\n",
      "valid_loss=0.168, test_los0.276, Model Save\n",
      "epoch = 20, train_loss : 0.136, valid_loss : 0.168, test_loss : 0.276\n",
      "epoch = 21, train_loss : 0.134, valid_loss : 0.169, test_loss : 0.273\n",
      "epoch = 22, train_loss : 0.134, valid_loss : 0.169, test_loss : 0.278\n",
      "valid_loss=0.168, test_los0.275, Model Save\n",
      "epoch = 23, train_loss : 0.133, valid_loss : 0.168, test_loss : 0.275\n",
      "valid_loss=0.168, test_los0.275, Model Save\n",
      "epoch = 24, train_loss : 0.133, valid_loss : 0.168, test_loss : 0.275\n"
     ]
    },
    {
     "name": "stderr",
     "output_type": "stream",
     "text": [
      " 15%|███▉                      | 30/200 [00:01<00:06, 28.25it/s]"
     ]
    },
    {
     "name": "stdout",
     "output_type": "stream",
     "text": [
      "epoch = 25, train_loss : 0.134, valid_loss : 0.168, test_loss : 0.274\n",
      "valid_loss=0.168, test_los0.274, Model Save\n",
      "epoch = 26, train_loss : 0.134, valid_loss : 0.168, test_loss : 0.274\n",
      "valid_loss=0.168, test_los0.272, Model Save\n",
      "epoch = 27, train_loss : 0.133, valid_loss : 0.168, test_loss : 0.272\n",
      "valid_loss=0.166, test_los0.271, Model Save\n",
      "epoch = 28, train_loss : 0.133, valid_loss : 0.166, test_loss : 0.271\n",
      "epoch = 29, train_loss : 0.133, valid_loss : 0.167, test_loss : 0.270\n",
      "epoch = 30, train_loss : 0.133, valid_loss : 0.170, test_loss : 0.274\n"
     ]
    },
    {
     "name": "stderr",
     "output_type": "stream",
     "text": [
      " 18%|████▋                     | 36/200 [00:01<00:05, 28.34it/s]"
     ]
    },
    {
     "name": "stdout",
     "output_type": "stream",
     "text": [
      "epoch = 31, train_loss : 0.133, valid_loss : 0.169, test_loss : 0.271\n",
      "epoch = 32, train_loss : 0.133, valid_loss : 0.168, test_loss : 0.269\n",
      "epoch = 33, train_loss : 0.133, valid_loss : 0.167, test_loss : 0.271\n",
      "epoch = 34, train_loss : 0.134, valid_loss : 0.172, test_loss : 0.277\n",
      "valid_loss=0.165, test_los0.264, Model Save\n",
      "epoch = 35, train_loss : 0.133, valid_loss : 0.165, test_loss : 0.264\n",
      "epoch = 36, train_loss : 0.132, valid_loss : 0.168, test_loss : 0.273\n"
     ]
    },
    {
     "name": "stderr",
     "output_type": "stream",
     "text": [
      " 21%|█████▍                    | 42/200 [00:01<00:05, 28.41it/s]"
     ]
    },
    {
     "name": "stdout",
     "output_type": "stream",
     "text": [
      "valid_loss=0.164, test_los0.264, Model Save\n",
      "epoch = 37, train_loss : 0.133, valid_loss : 0.164, test_loss : 0.264\n",
      "epoch = 38, train_loss : 0.134, valid_loss : 0.170, test_loss : 0.271\n",
      "epoch = 39, train_loss : 0.132, valid_loss : 0.167, test_loss : 0.269\n",
      "epoch = 40, train_loss : 0.131, valid_loss : 0.169, test_loss : 0.265\n",
      "epoch = 41, train_loss : 0.132, valid_loss : 0.167, test_loss : 0.268\n",
      "epoch = 42, train_loss : 0.133, valid_loss : 0.166, test_loss : 0.262\n"
     ]
    },
    {
     "name": "stderr",
     "output_type": "stream",
     "text": [
      " 24%|██████▏                   | 48/200 [00:01<00:05, 28.51it/s]"
     ]
    },
    {
     "name": "stdout",
     "output_type": "stream",
     "text": [
      "epoch = 43, train_loss : 0.130, valid_loss : 0.166, test_loss : 0.262\n",
      "epoch = 44, train_loss : 0.132, valid_loss : 0.167, test_loss : 0.264\n",
      "epoch = 45, train_loss : 0.132, valid_loss : 0.165, test_loss : 0.262\n",
      "epoch = 46, train_loss : 0.134, valid_loss : 0.165, test_loss : 0.262\n",
      "epoch = 47, train_loss : 0.134, valid_loss : 0.168, test_loss : 0.265\n",
      "epoch = 48, train_loss : 0.132, valid_loss : 0.164, test_loss : 0.262\n"
     ]
    },
    {
     "name": "stderr",
     "output_type": "stream",
     "text": [
      " 27%|███████                   | 54/200 [00:01<00:05, 28.50it/s]"
     ]
    },
    {
     "name": "stdout",
     "output_type": "stream",
     "text": [
      "epoch = 49, train_loss : 0.130, valid_loss : 0.165, test_loss : 0.261\n",
      "valid_loss=0.163, test_los0.261, Model Save\n",
      "epoch = 50, train_loss : 0.131, valid_loss : 0.163, test_loss : 0.261\n",
      "epoch = 51, train_loss : 0.131, valid_loss : 0.166, test_loss : 0.266\n",
      "epoch = 52, train_loss : 0.131, valid_loss : 0.165, test_loss : 0.261\n",
      "epoch = 53, train_loss : 0.131, valid_loss : 0.168, test_loss : 0.265\n",
      "epoch = 54, train_loss : 0.131, valid_loss : 0.166, test_loss : 0.265\n"
     ]
    },
    {
     "name": "stderr",
     "output_type": "stream",
     "text": [
      " 30%|███████▊                  | 60/200 [00:02<00:04, 28.56it/s]"
     ]
    },
    {
     "name": "stdout",
     "output_type": "stream",
     "text": [
      "epoch = 55, train_loss : 0.131, valid_loss : 0.165, test_loss : 0.263\n",
      "epoch = 56, train_loss : 0.132, valid_loss : 0.167, test_loss : 0.261\n",
      "epoch = 57, train_loss : 0.131, valid_loss : 0.166, test_loss : 0.261\n",
      "epoch = 58, train_loss : 0.131, valid_loss : 0.167, test_loss : 0.266\n",
      "epoch = 59, train_loss : 0.131, valid_loss : 0.163, test_loss : 0.255\n",
      "epoch = 60, train_loss : 0.132, valid_loss : 0.165, test_loss : 0.260\n"
     ]
    },
    {
     "name": "stderr",
     "output_type": "stream",
     "text": [
      " 33%|████████▌                 | 66/200 [00:02<00:04, 28.58it/s]"
     ]
    },
    {
     "name": "stdout",
     "output_type": "stream",
     "text": [
      "epoch = 61, train_loss : 0.131, valid_loss : 0.166, test_loss : 0.259\n",
      "epoch = 62, train_loss : 0.131, valid_loss : 0.164, test_loss : 0.255\n",
      "epoch = 63, train_loss : 0.131, valid_loss : 0.165, test_loss : 0.258\n",
      "epoch = 64, train_loss : 0.132, valid_loss : 0.165, test_loss : 0.259\n",
      "epoch = 65, train_loss : 0.132, valid_loss : 0.165, test_loss : 0.260\n",
      "epoch = 66, train_loss : 0.132, valid_loss : 0.167, test_loss : 0.261\n"
     ]
    },
    {
     "name": "stderr",
     "output_type": "stream",
     "text": [
      " 36%|█████████▎                | 72/200 [00:02<00:04, 28.51it/s]"
     ]
    },
    {
     "name": "stdout",
     "output_type": "stream",
     "text": [
      "epoch = 67, train_loss : 0.133, valid_loss : 0.167, test_loss : 0.258\n",
      "epoch = 68, train_loss : 0.131, valid_loss : 0.163, test_loss : 0.254\n",
      "epoch = 69, train_loss : 0.131, valid_loss : 0.165, test_loss : 0.259\n",
      "valid_loss=0.163, test_los0.256, Model Save\n",
      "epoch = 70, train_loss : 0.131, valid_loss : 0.163, test_loss : 0.256\n",
      "epoch = 71, train_loss : 0.132, valid_loss : 0.165, test_loss : 0.258\n",
      "epoch = 72, train_loss : 0.132, valid_loss : 0.169, test_loss : 0.264\n"
     ]
    },
    {
     "name": "stderr",
     "output_type": "stream",
     "text": [
      " 39%|██████████▏               | 78/200 [00:02<00:04, 28.48it/s]"
     ]
    },
    {
     "name": "stdout",
     "output_type": "stream",
     "text": [
      "epoch = 73, train_loss : 0.133, valid_loss : 0.165, test_loss : 0.257\n",
      "epoch = 74, train_loss : 0.131, valid_loss : 0.164, test_loss : 0.257\n",
      "epoch = 75, train_loss : 0.132, valid_loss : 0.166, test_loss : 0.261\n",
      "epoch = 76, train_loss : 0.131, valid_loss : 0.166, test_loss : 0.258\n",
      "epoch = 77, train_loss : 0.131, valid_loss : 0.167, test_loss : 0.265\n",
      "epoch = 78, train_loss : 0.133, valid_loss : 0.169, test_loss : 0.266\n"
     ]
    },
    {
     "name": "stderr",
     "output_type": "stream",
     "text": [
      " 42%|██████████▉               | 84/200 [00:02<00:04, 28.53it/s]"
     ]
    },
    {
     "name": "stdout",
     "output_type": "stream",
     "text": [
      "epoch = 79, train_loss : 0.132, valid_loss : 0.164, test_loss : 0.255\n",
      "epoch = 80, train_loss : 0.131, valid_loss : 0.165, test_loss : 0.259\n",
      "epoch = 81, train_loss : 0.131, valid_loss : 0.167, test_loss : 0.258\n",
      "epoch = 82, train_loss : 0.131, valid_loss : 0.163, test_loss : 0.259\n",
      "epoch = 83, train_loss : 0.131, valid_loss : 0.164, test_loss : 0.253\n",
      "epoch = 84, train_loss : 0.133, valid_loss : 0.165, test_loss : 0.258\n"
     ]
    },
    {
     "name": "stderr",
     "output_type": "stream",
     "text": [
      " 45%|███████████▋              | 90/200 [00:03<00:03, 28.55it/s]"
     ]
    },
    {
     "name": "stdout",
     "output_type": "stream",
     "text": [
      "epoch = 85, train_loss : 0.131, valid_loss : 0.168, test_loss : 0.257\n",
      "epoch = 86, train_loss : 0.130, valid_loss : 0.166, test_loss : 0.260\n",
      "epoch = 87, train_loss : 0.132, valid_loss : 0.165, test_loss : 0.260\n",
      "epoch = 88, train_loss : 0.131, valid_loss : 0.165, test_loss : 0.258\n",
      "epoch = 89, train_loss : 0.130, valid_loss : 0.165, test_loss : 0.257\n",
      "epoch = 90, train_loss : 0.131, valid_loss : 0.165, test_loss : 0.262\n"
     ]
    },
    {
     "name": "stderr",
     "output_type": "stream",
     "text": [
      " 48%|████████████▍             | 96/200 [00:03<00:03, 28.61it/s]"
     ]
    },
    {
     "name": "stdout",
     "output_type": "stream",
     "text": [
      "epoch = 91, train_loss : 0.131, valid_loss : 0.164, test_loss : 0.254\n",
      "epoch = 92, train_loss : 0.132, valid_loss : 0.164, test_loss : 0.257\n",
      "epoch = 93, train_loss : 0.131, valid_loss : 0.165, test_loss : 0.260\n",
      "epoch = 94, train_loss : 0.131, valid_loss : 0.166, test_loss : 0.257\n",
      "epoch = 95, train_loss : 0.131, valid_loss : 0.164, test_loss : 0.256\n",
      "epoch = 96, train_loss : 0.131, valid_loss : 0.167, test_loss : 0.253\n"
     ]
    },
    {
     "name": "stderr",
     "output_type": "stream",
     "text": [
      " 51%|████████████▊            | 102/200 [00:03<00:03, 28.57it/s]"
     ]
    },
    {
     "name": "stdout",
     "output_type": "stream",
     "text": [
      "epoch = 97, train_loss : 0.131, valid_loss : 0.163, test_loss : 0.255\n",
      "epoch = 98, train_loss : 0.131, valid_loss : 0.165, test_loss : 0.258\n",
      "epoch = 99, train_loss : 0.131, valid_loss : 0.164, test_loss : 0.256\n",
      "epoch = 100, train_loss : 0.131, valid_loss : 0.166, test_loss : 0.259\n",
      "epoch = 101, train_loss : 0.132, valid_loss : 0.167, test_loss : 0.260\n",
      "epoch = 102, train_loss : 0.131, valid_loss : 0.165, test_loss : 0.256\n"
     ]
    },
    {
     "name": "stderr",
     "output_type": "stream",
     "text": [
      " 54%|█████████████▌           | 108/200 [00:03<00:03, 28.52it/s]"
     ]
    },
    {
     "name": "stdout",
     "output_type": "stream",
     "text": [
      "epoch = 103, train_loss : 0.131, valid_loss : 0.167, test_loss : 0.256\n",
      "epoch = 104, train_loss : 0.131, valid_loss : 0.166, test_loss : 0.261\n",
      "epoch = 105, train_loss : 0.131, valid_loss : 0.167, test_loss : 0.256\n",
      "epoch = 106, train_loss : 0.131, valid_loss : 0.165, test_loss : 0.258\n",
      "epoch = 107, train_loss : 0.130, valid_loss : 0.167, test_loss : 0.258\n",
      "valid_loss=0.163, test_los0.255, Model Save\n",
      "epoch = 108, train_loss : 0.131, valid_loss : 0.163, test_loss : 0.255\n"
     ]
    },
    {
     "name": "stderr",
     "output_type": "stream",
     "text": [
      " 57%|██████████████▏          | 114/200 [00:04<00:03, 28.53it/s]"
     ]
    },
    {
     "name": "stdout",
     "output_type": "stream",
     "text": [
      "epoch = 109, train_loss : 0.131, valid_loss : 0.163, test_loss : 0.255\n",
      "epoch = 110, train_loss : 0.130, valid_loss : 0.166, test_loss : 0.254\n",
      "epoch = 111, train_loss : 0.131, valid_loss : 0.163, test_loss : 0.252\n",
      "epoch = 112, train_loss : 0.131, valid_loss : 0.165, test_loss : 0.257\n",
      "epoch = 113, train_loss : 0.132, valid_loss : 0.166, test_loss : 0.257\n",
      "epoch = 114, train_loss : 0.131, valid_loss : 0.166, test_loss : 0.259\n"
     ]
    },
    {
     "name": "stderr",
     "output_type": "stream",
     "text": [
      " 60%|███████████████          | 120/200 [00:04<00:02, 28.53it/s]"
     ]
    },
    {
     "name": "stdout",
     "output_type": "stream",
     "text": [
      "epoch = 115, train_loss : 0.131, valid_loss : 0.164, test_loss : 0.253\n",
      "epoch = 116, train_loss : 0.131, valid_loss : 0.169, test_loss : 0.259\n",
      "epoch = 117, train_loss : 0.130, valid_loss : 0.166, test_loss : 0.257\n",
      "epoch = 118, train_loss : 0.131, valid_loss : 0.167, test_loss : 0.259\n",
      "epoch = 119, train_loss : 0.132, valid_loss : 0.165, test_loss : 0.255\n",
      "epoch = 120, train_loss : 0.129, valid_loss : 0.165, test_loss : 0.256\n"
     ]
    },
    {
     "name": "stderr",
     "output_type": "stream",
     "text": [
      " 63%|███████████████▊         | 126/200 [00:04<00:02, 28.57it/s]"
     ]
    },
    {
     "name": "stdout",
     "output_type": "stream",
     "text": [
      "epoch = 121, train_loss : 0.132, valid_loss : 0.163, test_loss : 0.254\n",
      "epoch = 122, train_loss : 0.131, valid_loss : 0.168, test_loss : 0.255\n",
      "epoch = 123, train_loss : 0.132, valid_loss : 0.164, test_loss : 0.257\n",
      "epoch = 124, train_loss : 0.132, valid_loss : 0.167, test_loss : 0.255\n",
      "epoch = 125, train_loss : 0.132, valid_loss : 0.164, test_loss : 0.253\n",
      "epoch = 126, train_loss : 0.130, valid_loss : 0.163, test_loss : 0.252\n"
     ]
    },
    {
     "name": "stderr",
     "output_type": "stream",
     "text": [
      " 66%|████████████████▌        | 132/200 [00:04<00:02, 28.56it/s]"
     ]
    },
    {
     "name": "stdout",
     "output_type": "stream",
     "text": [
      "epoch = 127, train_loss : 0.131, valid_loss : 0.164, test_loss : 0.252\n",
      "epoch = 128, train_loss : 0.131, valid_loss : 0.164, test_loss : 0.253\n",
      "epoch = 129, train_loss : 0.131, valid_loss : 0.166, test_loss : 0.258\n",
      "epoch = 130, train_loss : 0.130, valid_loss : 0.164, test_loss : 0.259\n",
      "epoch = 131, train_loss : 0.130, valid_loss : 0.167, test_loss : 0.259\n",
      "epoch = 132, train_loss : 0.130, valid_loss : 0.163, test_loss : 0.252\n"
     ]
    },
    {
     "name": "stderr",
     "output_type": "stream",
     "text": [
      " 69%|█████████████████▎       | 138/200 [00:04<00:02, 28.57it/s]"
     ]
    },
    {
     "name": "stdout",
     "output_type": "stream",
     "text": [
      "epoch = 133, train_loss : 0.131, valid_loss : 0.165, test_loss : 0.252\n",
      "epoch = 134, train_loss : 0.131, valid_loss : 0.167, test_loss : 0.257\n",
      "epoch = 135, train_loss : 0.132, valid_loss : 0.167, test_loss : 0.256\n",
      "epoch = 136, train_loss : 0.130, valid_loss : 0.168, test_loss : 0.262\n",
      "epoch = 137, train_loss : 0.130, valid_loss : 0.164, test_loss : 0.259\n",
      "epoch = 138, train_loss : 0.131, valid_loss : 0.163, test_loss : 0.251\n"
     ]
    },
    {
     "name": "stderr",
     "output_type": "stream",
     "text": [
      " 72%|██████████████████       | 144/200 [00:05<00:01, 28.46it/s]"
     ]
    },
    {
     "name": "stdout",
     "output_type": "stream",
     "text": [
      "epoch = 139, train_loss : 0.131, valid_loss : 0.163, test_loss : 0.256\n",
      "valid_loss=0.161, test_los0.251, Model Save\n",
      "epoch = 140, train_loss : 0.131, valid_loss : 0.161, test_loss : 0.251\n",
      "epoch = 141, train_loss : 0.132, valid_loss : 0.164, test_loss : 0.250\n",
      "epoch = 142, train_loss : 0.132, valid_loss : 0.164, test_loss : 0.256\n",
      "epoch = 143, train_loss : 0.132, valid_loss : 0.171, test_loss : 0.262\n",
      "epoch = 144, train_loss : 0.131, valid_loss : 0.168, test_loss : 0.256\n"
     ]
    },
    {
     "name": "stderr",
     "output_type": "stream",
     "text": [
      " 75%|██████████████████▊      | 150/200 [00:05<00:01, 28.50it/s]"
     ]
    },
    {
     "name": "stdout",
     "output_type": "stream",
     "text": [
      "epoch = 145, train_loss : 0.133, valid_loss : 0.167, test_loss : 0.259\n",
      "epoch = 146, train_loss : 0.130, valid_loss : 0.165, test_loss : 0.256\n",
      "epoch = 147, train_loss : 0.133, valid_loss : 0.165, test_loss : 0.255\n",
      "epoch = 148, train_loss : 0.132, valid_loss : 0.163, test_loss : 0.252\n",
      "epoch = 149, train_loss : 0.130, valid_loss : 0.163, test_loss : 0.258\n",
      "epoch = 150, train_loss : 0.131, valid_loss : 0.164, test_loss : 0.254\n"
     ]
    },
    {
     "name": "stderr",
     "output_type": "stream",
     "text": [
      " 78%|███████████████████▌     | 156/200 [00:05<00:01, 28.52it/s]"
     ]
    },
    {
     "name": "stdout",
     "output_type": "stream",
     "text": [
      "epoch = 151, train_loss : 0.131, valid_loss : 0.163, test_loss : 0.254\n",
      "epoch = 152, train_loss : 0.133, valid_loss : 0.165, test_loss : 0.257\n",
      "epoch = 153, train_loss : 0.132, valid_loss : 0.167, test_loss : 0.258\n",
      "epoch = 154, train_loss : 0.132, valid_loss : 0.166, test_loss : 0.263\n",
      "epoch = 155, train_loss : 0.131, valid_loss : 0.166, test_loss : 0.259\n",
      "epoch = 156, train_loss : 0.133, valid_loss : 0.163, test_loss : 0.256\n"
     ]
    },
    {
     "name": "stderr",
     "output_type": "stream",
     "text": [
      " 81%|████████████████████▎    | 162/200 [00:05<00:01, 28.54it/s]"
     ]
    },
    {
     "name": "stdout",
     "output_type": "stream",
     "text": [
      "epoch = 157, train_loss : 0.130, valid_loss : 0.166, test_loss : 0.255\n",
      "epoch = 158, train_loss : 0.130, valid_loss : 0.164, test_loss : 0.256\n",
      "epoch = 159, train_loss : 0.131, valid_loss : 0.164, test_loss : 0.255\n",
      "epoch = 160, train_loss : 0.133, valid_loss : 0.167, test_loss : 0.257\n",
      "epoch = 161, train_loss : 0.131, valid_loss : 0.164, test_loss : 0.256\n",
      "epoch = 162, train_loss : 0.131, valid_loss : 0.165, test_loss : 0.256\n"
     ]
    },
    {
     "name": "stderr",
     "output_type": "stream",
     "text": [
      " 84%|█████████████████████    | 168/200 [00:05<00:01, 28.52it/s]"
     ]
    },
    {
     "name": "stdout",
     "output_type": "stream",
     "text": [
      "epoch = 163, train_loss : 0.131, valid_loss : 0.166, test_loss : 0.257\n",
      "epoch = 164, train_loss : 0.133, valid_loss : 0.169, test_loss : 0.262\n",
      "epoch = 165, train_loss : 0.130, valid_loss : 0.163, test_loss : 0.252\n",
      "valid_loss=0.161, test_los0.256, Model Save\n",
      "epoch = 166, train_loss : 0.132, valid_loss : 0.161, test_loss : 0.256\n",
      "epoch = 167, train_loss : 0.131, valid_loss : 0.164, test_loss : 0.252\n",
      "epoch = 168, train_loss : 0.131, valid_loss : 0.163, test_loss : 0.253\n"
     ]
    },
    {
     "name": "stderr",
     "output_type": "stream",
     "text": [
      " 87%|█████████████████████▊   | 174/200 [00:06<00:00, 28.51it/s]"
     ]
    },
    {
     "name": "stdout",
     "output_type": "stream",
     "text": [
      "epoch = 169, train_loss : 0.132, valid_loss : 0.164, test_loss : 0.257\n",
      "epoch = 170, train_loss : 0.131, valid_loss : 0.167, test_loss : 0.257\n",
      "epoch = 171, train_loss : 0.130, valid_loss : 0.166, test_loss : 0.256\n",
      "epoch = 172, train_loss : 0.131, valid_loss : 0.165, test_loss : 0.259\n",
      "epoch = 173, train_loss : 0.132, valid_loss : 0.169, test_loss : 0.264\n",
      "epoch = 174, train_loss : 0.131, valid_loss : 0.168, test_loss : 0.259\n"
     ]
    },
    {
     "name": "stderr",
     "output_type": "stream",
     "text": [
      " 90%|██████████████████████▌  | 180/200 [00:06<00:00, 28.52it/s]"
     ]
    },
    {
     "name": "stdout",
     "output_type": "stream",
     "text": [
      "epoch = 175, train_loss : 0.130, valid_loss : 0.162, test_loss : 0.252\n",
      "epoch = 176, train_loss : 0.132, valid_loss : 0.164, test_loss : 0.254\n",
      "epoch = 177, train_loss : 0.132, valid_loss : 0.165, test_loss : 0.250\n",
      "epoch = 178, train_loss : 0.131, valid_loss : 0.164, test_loss : 0.255\n",
      "epoch = 179, train_loss : 0.132, valid_loss : 0.165, test_loss : 0.256\n",
      "epoch = 180, train_loss : 0.131, valid_loss : 0.167, test_loss : 0.257\n"
     ]
    },
    {
     "name": "stderr",
     "output_type": "stream",
     "text": [
      " 93%|███████████████████████▎ | 186/200 [00:06<00:00, 28.47it/s]"
     ]
    },
    {
     "name": "stdout",
     "output_type": "stream",
     "text": [
      "epoch = 181, train_loss : 0.132, valid_loss : 0.169, test_loss : 0.261\n",
      "valid_loss=0.161, test_los0.247, Model Save\n",
      "epoch = 182, train_loss : 0.131, valid_loss : 0.161, test_loss : 0.247\n",
      "epoch = 183, train_loss : 0.130, valid_loss : 0.164, test_loss : 0.256\n",
      "epoch = 184, train_loss : 0.130, valid_loss : 0.164, test_loss : 0.256\n",
      "epoch = 185, train_loss : 0.132, valid_loss : 0.162, test_loss : 0.250\n",
      "epoch = 186, train_loss : 0.133, valid_loss : 0.165, test_loss : 0.254\n"
     ]
    },
    {
     "name": "stderr",
     "output_type": "stream",
     "text": [
      " 96%|████████████████████████ | 192/200 [00:06<00:00, 28.51it/s]"
     ]
    },
    {
     "name": "stdout",
     "output_type": "stream",
     "text": [
      "epoch = 187, train_loss : 0.131, valid_loss : 0.165, test_loss : 0.255\n",
      "epoch = 188, train_loss : 0.130, valid_loss : 0.169, test_loss : 0.265\n",
      "epoch = 189, train_loss : 0.132, valid_loss : 0.164, test_loss : 0.255\n",
      "epoch = 190, train_loss : 0.133, valid_loss : 0.163, test_loss : 0.253\n",
      "epoch = 191, train_loss : 0.132, valid_loss : 0.166, test_loss : 0.258\n",
      "epoch = 192, train_loss : 0.132, valid_loss : 0.165, test_loss : 0.256\n"
     ]
    },
    {
     "name": "stderr",
     "output_type": "stream",
     "text": [
      " 99%|████████████████████████▊| 198/200 [00:06<00:00, 28.53it/s]"
     ]
    },
    {
     "name": "stdout",
     "output_type": "stream",
     "text": [
      "epoch = 193, train_loss : 0.131, valid_loss : 0.162, test_loss : 0.253\n",
      "epoch = 194, train_loss : 0.131, valid_loss : 0.170, test_loss : 0.263\n",
      "epoch = 195, train_loss : 0.133, valid_loss : 0.165, test_loss : 0.256\n",
      "epoch = 196, train_loss : 0.131, valid_loss : 0.168, test_loss : 0.258\n",
      "epoch = 197, train_loss : 0.131, valid_loss : 0.167, test_loss : 0.260\n",
      "epoch = 198, train_loss : 0.132, valid_loss : 0.164, test_loss : 0.260\n"
     ]
    },
    {
     "name": "stderr",
     "output_type": "stream",
     "text": [
      "\r",
      "100%|█████████████████████████| 200/200 [00:07<00:00, 28.43it/s]"
     ]
    },
    {
     "name": "stdout",
     "output_type": "stream",
     "text": [
      "epoch = 199, train_loss : 0.132, valid_loss : 0.164, test_loss : 0.252\n",
      "epoch = 200, train_loss : 0.132, valid_loss : 0.163, test_loss : 0.252\n"
     ]
    },
    {
     "name": "stderr",
     "output_type": "stream",
     "text": [
      "\n"
     ]
    }
   ],
   "source": [
    "\n",
    "### 모델 학습 ###\n",
    "train_loss_list = []\n",
    "valid_loss_list = []\n",
    "test_loss_list = []\n",
    "epoch = 200\n",
    "lr = 0.001\n",
    "DLinear_model = LTSF_DLinear(\n",
    "                            window_size=window_size,\n",
    "                            forcast_size=forcast_size,\n",
    "                            kernel_size=25,\n",
    "                            individual=False,\n",
    "                            feature_size=1,\n",
    "                            )\n",
    "criterion = torch.nn.MSELoss()\n",
    "optimizer = torch.optim.Adam(DLinear_model.parameters(), lr=lr)\n",
    "max_loss = 999999999\n",
    "\n",
    "for epoch in tqdm(range(1, epoch+1)):\n",
    "    loss_list = []\n",
    "    DLinear_model.train()\n",
    "    for batch_idx, (data, target) in enumerate(train_dl):\n",
    "        optimizer.zero_grad()\n",
    "        output = DLinear_model(data)\n",
    "        loss = criterion(output, target.unsqueeze(-1))\n",
    "        loss.backward()\n",
    "        optimizer.step()\n",
    "        loss_list.append(loss.item())    \n",
    "    train_loss_list.append(np.mean(loss_list))\n",
    "\n",
    "    DLinear_model.eval()\n",
    "    with torch.no_grad():\n",
    "        for data, target in valid_dl:\n",
    "            output = DLinear_model(data)\n",
    "            valid_loss = criterion(output, target.unsqueeze(-1))\n",
    "            valid_loss_list.append(valid_loss)\n",
    "        \n",
    "        for data, target in test_dl:\n",
    "            output = DLinear_model(data)\n",
    "            test_loss = criterion(output, target.unsqueeze(-1))\n",
    "            test_loss_list.append(test_loss)\n",
    "\n",
    "    if valid_loss < max_loss:\n",
    "        torch.save(DLinear_model, 'DLinear_model.pth')\n",
    "        max_loss = valid_loss\n",
    "        print(\"valid_loss={:.3f}, test_los{:.3f}, Model Save\".format(valid_loss, test_loss))\n",
    "        dlinear_best_epoch = epoch\n",
    "        dlinear_best_train_loss = np.mean(loss_list)\n",
    "        dlinear_best_valid_loss = np.mean(valid_loss.item())\n",
    "        dlinear_best_test_loss = np.mean(test_loss.item())\n",
    "\n",
    "    print(\"epoch = {}, train_loss : {:.3f}, valid_loss : {:.3f}, test_loss : {:.3f}\".format(epoch, np.mean(loss_list), valid_loss, test_loss))"
   ]
  },
  {
   "cell_type": "code",
   "execution_count": 251,
   "id": "8b8c3efc",
   "metadata": {},
   "outputs": [
    {
     "ename": "TypeError",
     "evalue": "__init__() got an unexpected keyword argument 'kernel_size'",
     "output_type": "error",
     "traceback": [
      "\u001b[0;31m---------------------------------------------------------------------------\u001b[0m",
      "\u001b[0;31mTypeError\u001b[0m                                 Traceback (most recent call last)",
      "Cell \u001b[0;32mIn[251], line 7\u001b[0m\n\u001b[1;32m      5\u001b[0m epoch \u001b[38;5;241m=\u001b[39m \u001b[38;5;241m200\u001b[39m\n\u001b[1;32m      6\u001b[0m lr \u001b[38;5;241m=\u001b[39m \u001b[38;5;241m0.001\u001b[39m\n\u001b[0;32m----> 7\u001b[0m Linear_model \u001b[38;5;241m=\u001b[39m \u001b[43mLTSF_Linear\u001b[49m\u001b[43m(\u001b[49m\n\u001b[1;32m      8\u001b[0m \u001b[43m                            \u001b[49m\u001b[43mwindow_size\u001b[49m\u001b[38;5;241;43m=\u001b[39;49m\u001b[43mwindow_size\u001b[49m\u001b[43m,\u001b[49m\n\u001b[1;32m      9\u001b[0m \u001b[43m                            \u001b[49m\u001b[43mforcast_size\u001b[49m\u001b[38;5;241;43m=\u001b[39;49m\u001b[43mforcast_size\u001b[49m\u001b[43m,\u001b[49m\n\u001b[1;32m     10\u001b[0m \u001b[43m                            \u001b[49m\u001b[43mkernel_size\u001b[49m\u001b[38;5;241;43m=\u001b[39;49m\u001b[38;5;241;43m25\u001b[39;49m\u001b[43m,\u001b[49m\n\u001b[1;32m     11\u001b[0m \u001b[43m                            \u001b[49m\u001b[43mindividual\u001b[49m\u001b[38;5;241;43m=\u001b[39;49m\u001b[38;5;28;43;01mFalse\u001b[39;49;00m\u001b[43m,\u001b[49m\n\u001b[1;32m     12\u001b[0m \u001b[43m                            \u001b[49m\u001b[43mfeature_size\u001b[49m\u001b[38;5;241;43m=\u001b[39;49m\u001b[38;5;241;43m1\u001b[39;49m\u001b[43m,\u001b[49m\n\u001b[1;32m     13\u001b[0m \u001b[43m                            \u001b[49m\u001b[43m)\u001b[49m\n\u001b[1;32m     14\u001b[0m criterion \u001b[38;5;241m=\u001b[39m torch\u001b[38;5;241m.\u001b[39mnn\u001b[38;5;241m.\u001b[39mMSELoss()\n\u001b[1;32m     15\u001b[0m optimizer \u001b[38;5;241m=\u001b[39m torch\u001b[38;5;241m.\u001b[39moptim\u001b[38;5;241m.\u001b[39mAdam(DLinear_model\u001b[38;5;241m.\u001b[39mparameters(), lr\u001b[38;5;241m=\u001b[39mlr)\n",
      "\u001b[0;31mTypeError\u001b[0m: __init__() got an unexpected keyword argument 'kernel_size'"
     ]
    }
   ],
   "source": [
    "class LTSF_Linear(torch.nn.Module):\n",
    "    def __init__(self, window_size, forcast_size, individual, feature_size):\n",
    "        super(LTSF_Linear, self).__init__()\n",
    "        self.window_size = window_size\n",
    "        self.forcast_size = forcast_size\n",
    "        self.individual = individual\n",
    "        self.channels = feature_size\n",
    "        if self.individual:\n",
    "            self.Linear = torch.nn.ModuleList()\n",
    "            for i in range(self.channels):\n",
    "                self.Linear.append(torch.nn.Linear(self.window_size, self.forcast_size))\n",
    "        else:\n",
    "            self.Linear = torch.nn.Linear(self.window_size, self.forcast_size)\n",
    "\n",
    "    def forward(self, x):\n",
    "        if self.individual:\n",
    "            output = torch.zeros([x.size(0),self.pred_len,x.size(2)],dtype=x.dtype).to(x.device)\n",
    "            for i in range(self.channels):\n",
    "                output[:,:,i] = self.Linear[i](x[:,:,i])\n",
    "            x = output\n",
    "        else:\n",
    "            x = self.Linear(x.permute(0,2,1)).permute(0,2,1)\n",
    "        return x\n",
    "\n",
    "### 모델 학습 ###\n",
    "train_loss_list = []\n",
    "valid_loss_list = []\n",
    "test_loss_list = []\n",
    "epoch = 200\n",
    "lr = 0.001\n",
    "Linear_model = LTSF_Linear(\n",
    "                            window_size=window_size,\n",
    "                            forcast_size=forcast_size,\n",
    "                            individual=False,\n",
    "                            feature_size=1,\n",
    "                            )\n",
    "criterion = torch.nn.MSELoss()\n",
    "optimizer = torch.optim.Adam(DLinear_model.parameters(), lr=lr)\n",
    "max_loss = 999999999\n",
    "\n",
    "for epoch in tqdm(range(1, epoch+1)):\n",
    "    loss_list = []\n",
    "    Linear_model.train()\n",
    "    for batch_idx, (data, target) in enumerate(train_dl):\n",
    "        optimizer.zero_grad()\n",
    "        output = DLinear_model(data)\n",
    "        loss = criterion(output, target.unsqueeze(-1))\n",
    "        loss.backward()\n",
    "        optimizer.step()\n",
    "        loss_list.append(loss.item())    \n",
    "    train_loss_list.append(np.mean(loss_list))\n",
    "\n",
    "    Linear_model.eval()\n",
    "    with torch.no_grad():\n",
    "        for data, target in valid_dl:\n",
    "            output = DLinear_model(data)\n",
    "            valid_loss = criterion(output, target.unsqueeze(-1))\n",
    "            valid_loss_list.append(valid_loss)\n",
    "        \n",
    "        for data, target in test_dl:\n",
    "            output = DLinear_model(data)\n",
    "            test_loss = criterion(output, target.unsqueeze(-1))\n",
    "            test_loss_list.append(test_loss)\n",
    "\n",
    "    if valid_loss < max_loss:\n",
    "        torch.save(Linear_model, 'Linear_model.pth')\n",
    "        max_loss = valid_loss\n",
    "        print(\"valid_loss={:.3f}, test_los{:.3f}, Model Save\".format(valid_loss, test_loss))\n",
    "        dlinear_best_epoch = epoch\n",
    "        dlinear_best_train_loss = np.mean(loss_list)\n",
    "        dlinear_best_valid_loss = np.mean(valid_loss.item())\n",
    "        dlinear_best_test_loss = np.mean(test_loss.item())\n",
    "\n",
    "    print(\"epoch = {}, train_loss : {:.3f}, valid_loss : {:.3f}, test_loss : {:.3f}\".format(epoch, np.mean(loss_list), valid_loss, test_loss))"
   ]
  },
  {
   "cell_type": "code",
   "execution_count": 243,
   "id": "98882d2c",
   "metadata": {},
   "outputs": [
    {
     "data": {
      "image/png": "[encoded data removed]",
      "text/plain": [
       "<Figure size 640x480 with 2 Axes>"
      ]
     },
     "metadata": {},
     "output_type": "display_data"
    },
    {
     "data": {
      "image/png": "[encoded data removed]",
      "text/plain": [
       "<Figure size 640x480 with 2 Axes>"
      ]
     },
     "metadata": {},
     "output_type": "display_data"
    }
   ],
   "source": [
    "weights_list = {}\n",
    "weights_list['trend'] = DLinear_model.Linear_Trend.weight.detach().numpy()\n",
    "weights_list['seasonal'] = DLinear_model.Linear_Seasonal.weight.detach().numpy()\n",
    "\n",
    "for name, w in weights_list.items():    \n",
    "    fig, ax = plt.subplots()    \n",
    "    plt.title(name)\n",
    "    im = ax.imshow(w, cmap='plasma_r',)\n",
    "    fig.colorbar(im, pad=0.03)\n",
    "    plt.show()"
   ]
  },
  {
   "cell_type": "code",
   "execution_count": null,
   "id": "9ec0cad0",
   "metadata": {},
   "outputs": [],
   "source": []
  },
  {
   "cell_type": "code",
   "execution_count": null,
   "id": "cfeb4f68",
   "metadata": {},
   "outputs": [],
   "source": []
  }
 ],
 "metadata": {
  "kernelspec": {
   "display_name": "Python 3 (ipykernel)",
   "language": "python",
   "name": "python3"
  },
  "language_info": {
   "codemirror_mode": {
    "name": "ipython",
    "version": 3
   },
   "file_extension": ".py",
   "mimetype": "text/x-python",
   "name": "python",
   "nbconvert_exporter": "python",
   "pygments_lexer": "ipython3",
   "version": "3.8.8"
  }
 },
 "nbformat": 4,
 "nbformat_minor": 5
}
