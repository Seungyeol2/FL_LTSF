{
 "cells": [
  {
   "cell_type": "code",
   "execution_count": 1,
   "id": "d5a91315",
   "metadata": {},
   "outputs": [],
   "source": [
    "import numpy as np\n",
    "import h5py\n",
    "import torch\n",
    "import torch.optim as optim\n",
    "from tqdm import tqdm\n",
    "import copy\n",
    "import pandas as pd\n",
    "import sys\n",
    "import random\n",
    "import os\n",
    "from torch.utils.data import Dataset, DataLoader\n",
    "\n",
    "import matplotlib.pyplot as plt\n",
    "\n",
    "\n",
    "\n",
    "sys.path.append('../')\n",
    "from utils.misc import args_parser, average_weights\n",
    "from utils.misc import get_data, process_isolated\n",
    "from utils.models import LSTM\n",
    "from utils.fed_update import LocalUpdate, test_inference\n",
    "from sklearn import metrics"
   ]
  },
  {
   "cell_type": "code",
   "execution_count": 5,
   "id": "a873c322",
   "metadata": {},
   "outputs": [],
   "source": [
    "close_size = 3\n",
    "period_size = 3\n",
    "out_dim = 1\n",
    "test_days = 7\n",
    "val_days = 0\n",
    "seed = 1\n",
    "bs = 100\n",
    "frac = 0.1\n",
    "fedsgd = 1\n",
    "local_bs = 20\n",
    "epochs = 10"
   ]
  },
  {
   "cell_type": "code",
   "execution_count": 6,
   "id": "7ed412e6",
   "metadata": {},
   "outputs": [
    {
     "ename": "IndentationError",
     "evalue": "expected an indented block (174826465.py, line 115)",
     "output_type": "error",
     "traceback": [
      "\u001b[0;36m  Cell \u001b[0;32mIn[6], line 115\u001b[0;36m\u001b[0m\n\u001b[0;31m    def __init__(self, window_size, forcast_size, individual, feature_size):\u001b[0m\n\u001b[0m    ^\u001b[0m\n\u001b[0;31mIndentationError\u001b[0m\u001b[0;31m:\u001b[0m expected an indented block\n"
     ]
    }
   ],
   "source": [
    "def get_data(args):\n",
    "    path = os.getcwd()\n",
    "    f = h5py.File(path + '/dataset/' + args, 'r')\n",
    "\n",
    "    idx = f['idx'][()]\n",
    "    cell = f['cell'][()]\n",
    "    lng = f['lng'][()]\n",
    "    lat = f['lat'][()]\n",
    "    data = f['call'][()][:, cell - 1]\n",
    "\n",
    "    \n",
    "    \n",
    "    df = pd.DataFrame(data, index=pd.to_datetime(idx.ravel(), unit='s'), columns=cell)\n",
    "    df.fillna(0, inplace=True)\n",
    "    print(df)\n",
    "\n",
    "    random.seed(1500)\n",
    "    cell_pool = cell\n",
    "    selected_cells = sorted(random.sample(list(cell_pool), bs))\n",
    "    selected_cells_idx = np.where(np.isin(list(cell), selected_cells))\n",
    "    cell_lng = lng[selected_cells_idx]\n",
    "    cell_lat = lat[selected_cells_idx]\n",
    "    # print('Selected cells:', selected_cells)\n",
    "\n",
    "    df_cells = df[selected_cells]\n",
    "    # print(df_cells.head())\n",
    "\n",
    "    train_data = df_cells.iloc[:-test_days * 24]\n",
    "\n",
    "    mean = train_data.mean()\n",
    "    std = train_data.std()\n",
    "\n",
    "    normalized_df = (df_cells - mean) / std\n",
    "\n",
    "    return normalized_df, df_cells, selected_cells, mean, std, cell_lng, cell_lat\n",
    "def standardization(train_df, test_df, not_col, target):\n",
    "    train_df_ = train_df.copy()\n",
    "    test_df_ = test_df.copy()\n",
    "    col =  [col for col in list(train_df.columns) if col not in [not_col]]\n",
    "    mean_list = []\n",
    "    std_list = []\n",
    "    for x in col:\n",
    "        mean, std = train_df_.agg([\"mean\", \"std\"]).loc[:,x]\n",
    "        mean_list.append(mean)\n",
    "        std_list.append(std)\n",
    "        train_df_.loc[:, x] = (train_df_[x] - mean) / std\n",
    "        test_df_.loc[:, x] = (test_df_[x] - mean) / std\n",
    "    return train_df_, test_df_, mean_list[col.index(target)], std_list[col.index(target)]\n",
    "\n",
    "def time_slide_df2(df, window_size, forecast_size):\n",
    "    df_ = df.copy()\n",
    "    x_dict = {}\n",
    "    y_dict = {}\n",
    "    date_dict = {}\n",
    "    date = 'date_time'\n",
    "    \n",
    "    # Drop the date column from the target list to avoid duplication\n",
    "    target_cols = [col for col in df_.columns if col != date]\n",
    "    \n",
    "    for idx in range(0, df_.shape[0] - window_size - forecast_size + 1):\n",
    "        for col in target_cols:\n",
    "            x = df_.loc[idx:idx + window_size - 1, col].values.reshape(window_size, 1)\n",
    "            y = df_.loc[idx + window_size:idx + window_size + forecast_size - 1, col].values\n",
    "            date_ = df_.loc[idx + window_size:idx + window_size + forecast_size - 1, date].values\n",
    "            \n",
    "            if col not in x_dict:\n",
    "                x_dict[col] = []\n",
    "            if col not in y_dict:\n",
    "                y_dict[col] = []\n",
    "            if col not in date_dict:\n",
    "                date_dict[col] = []\n",
    "            \n",
    "            x_dict[col].append(x)\n",
    "            y_dict[col].append(y)\n",
    "            date_dict[col].append(date_)\n",
    "    \n",
    "    for col in target_cols:\n",
    "        x_dict[col] = np.array(x_dict[col], dtype='float32')\n",
    "        y_dict[col] = np.array(y_dict[col], dtype='float32')\n",
    "        date_dict[col] = np.array(date_dict[col])\n",
    "    \n",
    "    return x_dict, y_dict, date_dict\n",
    "\n",
    "def time_slide_df(df, window_size, forcast_size, date, target):\n",
    "    df_ = df.copy()\n",
    "    data_list = []\n",
    "    dap_list = []\n",
    "    date_list = []\n",
    "    for idx in range(0, df_.shape[0]-window_size-forcast_size+1):\n",
    "        x = df_.loc[idx:idx+window_size-1, target].values.reshape(window_size, 1)\n",
    "        y = df_.loc[idx+window_size:idx+window_size+forcast_size-1, target].values\n",
    "        date_ = df_.loc[idx+window_size:idx+window_size+forcast_size-1, date].values\n",
    "        data_list.append(x)\n",
    "        dap_list.append(y)\n",
    "        date_list.append(date_)\n",
    "    return np.array(data_list, dtype='float32'), np.array(dap_list, dtype='float32'), np.array(date_list)\n",
    "\n",
    "def restart_index(df):\n",
    "    df_reset_index = df.reset_index(drop=True)\n",
    "    df_reset_index.index = df_reset_index.index\n",
    "    return df_reset_index\n",
    "\n",
    "class Data(Dataset):\n",
    "    def __init__(self, X, Y):\n",
    "        self.X = X\n",
    "        self.Y = Y\n",
    "\n",
    "    def __len__(self):\n",
    "        return len(self.Y)\n",
    "    \n",
    "    def __getitem__(self, idx):\n",
    "        return self.X[idx], self.Y[idx]\n",
    "\n",
    "    class LTSF_Linear(torch.nn.Module):\n",
    "    def __init__(self, window_size, forcast_size, individual, feature_size):\n",
    "        super(LTSF_Linear, self).__init__()\n",
    "        self.window_size = window_size\n",
    "        self.forcast_size = forcast_size\n",
    "        self.individual = individual\n",
    "        self.channels = feature_size\n",
    "        if self.individual:\n",
    "            self.Linear = torch.nn.ModuleList()\n",
    "            for i in range(self.channels):\n",
    "                self.Linear.append(torch.nn.Linear(self.window_size, self.forcast_size))\n",
    "        else:\n",
    "            self.Linear = torch.nn.Linear(self.window_size, self.forcast_size)\n",
    "\n",
    "    def forward(self, x):\n",
    "        if self.individual:\n",
    "            output = torch.zeros([x.size(0),self.pred_len,x.size(2)],dtype=x.dtype).to(x.device)\n",
    "            for i in range(self.channels):\n",
    "                output[:,:,i] = self.Linear[i](x[:,:,i])\n",
    "            x = output\n",
    "        else:\n",
    "            x = self.Linear(x.permute(0,2,1)).permute(0,2,1)\n",
    "        return x\n",
    "    \n",
    "class moving_avg(torch.nn.Module):\n",
    "    def __init__(self, kernel_size, stride):\n",
    "        super(moving_avg, self).__init__()\n",
    "        self.kernel_size = kernel_size\n",
    "        self.avg = torch.nn.AvgPool1d(kernel_size=kernel_size, stride=stride, padding=0)\n",
    "\n",
    "    def forward(self, x):\n",
    "        front = x[:, 0:1, :].repeat(1, (self.kernel_size - 1) // 2, 1)\n",
    "        end = x[:, -1:, :].repeat(1, (self.kernel_size - 1) // 2, 1)\n",
    "        x = torch.cat([front, x, end], dim=1)\n",
    "        x = self.avg(x.permute(0, 2, 1))\n",
    "        x = x.permute(0, 2, 1)\n",
    "        return x\n",
    "\n",
    "class series_decomp(torch.nn.Module):\n",
    "    def __init__(self, kernel_size):\n",
    "        super(series_decomp, self).__init__()\n",
    "        self.moving_avg = moving_avg(kernel_size, stride=1)\n",
    "\n",
    "    def forward(self, x):\n",
    "        moving_mean = self.moving_avg(x)\n",
    "        residual = x - moving_mean\n",
    "        return moving_mean, residual \n",
    "        \n",
    "class LTSF_DLinear(torch.nn.Module):\n",
    "    def __init__(self, window_size, forcast_size, kernel_size, individual, feature_size):\n",
    "        super(LTSF_DLinear, self).__init__()\n",
    "        self.window_size = window_size\n",
    "        self.forcast_size = forcast_size\n",
    "        self.decompsition = series_decomp(kernel_size)\n",
    "        self.individual = individual\n",
    "        self.channels = feature_size\n",
    "        if self.individual:\n",
    "            self.Linear_Seasonal = torch.nn.ModuleList()\n",
    "            self.Linear_Trend = torch.nn.ModuleList()\n",
    "            for i in range(self.channels):\n",
    "                self.Linear_Trend.append(torch.nn.Linear(self.window_size, self.forcast_size))\n",
    "                self.Linear_Trend[i].weight = torch.nn.Parameter((1/self.window_size)*torch.ones([self.forcast_size, self.window_size]))\n",
    "                self.Linear_Seasonal.append(torch.nn.Linear(self.window_size, self.forcast_size))\n",
    "                self.Linear_Seasonal[i].weight = torch.nn.Parameter((1/self.window_size)*torch.ones([self.forcast_size, self.window_size]))\n",
    "        else:\n",
    "            self.Linear_Trend = torch.nn.Linear(self.window_size, self.forcast_size)\n",
    "            self.Linear_Trend.weight = torch.nn.Parameter((1/self.window_size)*torch.ones([self.forcast_size, self.window_size]))\n",
    "            self.Linear_Seasonal = torch.nn.Linear(self.window_size,  self.forcast_size)\n",
    "            self.Linear_Seasonal.weight = torch.nn.Parameter((1/self.window_size)*torch.ones([self.forcast_size, self.window_size]))\n",
    "\n",
    "    def forward(self, x):\n",
    "        trend_init, seasonal_init = self.decompsition(x)\n",
    "        trend_init, seasonal_init = trend_init.permute(0,2,1), seasonal_init.permute(0,2,1)\n",
    "        if self.individual:\n",
    "            trend_output = torch.zeros([trend_init.size(0), trend_init.size(1), self.forcast_size], dtype=trend_init.dtype).to(trend_init.device)\n",
    "            seasonal_output = torch.zeros([seasonal_init.size(0), seasonal_init.size(1), self.forcast_size], dtype=seasonal_init.dtype).to(seasonal_init.device)\n",
    "            for idx in range(self.channels):\n",
    "                trend_output[:, idx, :] = self.Linear_Trend[idx](trend_init[:, idx, :])\n",
    "                seasonal_output[:, idx, :] = self.Linear_Seasonal[idx](seasonal_init[:, idx, :])                \n",
    "        else:\n",
    "            trend_output = self.Linear_Trend(trend_init)\n",
    "            seasonal_output = self.Linear_Seasonal(seasonal_init)\n",
    "        x = seasonal_output + trend_output\n",
    "        return x.permute(0,2,1)"
   ]
  },
  {
   "cell_type": "code",
   "execution_count": 7,
   "id": "968c4506",
   "metadata": {},
   "outputs": [
    {
     "ename": "AttributeError",
     "evalue": "'str' object has no attribute 'file'",
     "output_type": "error",
     "traceback": [
      "\u001b[0;31m---------------------------------------------------------------------------\u001b[0m",
      "\u001b[0;31mAttributeError\u001b[0m                            Traceback (most recent call last)",
      "Cell \u001b[0;32mIn[7], line 1\u001b[0m\n\u001b[0;32m----> 1\u001b[0m df,ori_df,df_s,_,_,_,_ \u001b[38;5;241m=\u001b[39m \u001b[43mget_data\u001b[49m\u001b[43m(\u001b[49m\u001b[38;5;124;43m\"\u001b[39;49m\u001b[38;5;124;43mmilano.h5\u001b[39;49m\u001b[38;5;124;43m\"\u001b[39;49m\u001b[43m)\u001b[49m\n",
      "File \u001b[0;32m~/LTSF-Linear/utils/misc.py:167\u001b[0m, in \u001b[0;36mget_data\u001b[0;34m(args)\u001b[0m\n\u001b[1;32m    165\u001b[0m \u001b[38;5;28;01mdef\u001b[39;00m \u001b[38;5;21mget_data\u001b[39m(args):\n\u001b[1;32m    166\u001b[0m     path \u001b[38;5;241m=\u001b[39m os\u001b[38;5;241m.\u001b[39mgetcwd()\n\u001b[0;32m--> 167\u001b[0m     f \u001b[38;5;241m=\u001b[39m h5py\u001b[38;5;241m.\u001b[39mFile(path \u001b[38;5;241m+\u001b[39m \u001b[38;5;124m'\u001b[39m\u001b[38;5;124m/dataset/\u001b[39m\u001b[38;5;124m'\u001b[39m \u001b[38;5;241m+\u001b[39m \u001b[43margs\u001b[49m\u001b[38;5;241;43m.\u001b[39;49m\u001b[43mfile\u001b[49m, \u001b[38;5;124m'\u001b[39m\u001b[38;5;124mr\u001b[39m\u001b[38;5;124m'\u001b[39m)\n\u001b[1;32m    169\u001b[0m     idx \u001b[38;5;241m=\u001b[39m f[\u001b[38;5;124m'\u001b[39m\u001b[38;5;124midx\u001b[39m\u001b[38;5;124m'\u001b[39m][()]\n\u001b[1;32m    170\u001b[0m     cell \u001b[38;5;241m=\u001b[39m f[\u001b[38;5;124m'\u001b[39m\u001b[38;5;124mcell\u001b[39m\u001b[38;5;124m'\u001b[39m][()]\n",
      "\u001b[0;31mAttributeError\u001b[0m: 'str' object has no attribute 'file'"
     ]
    }
   ],
   "source": [
    "df,ori_df,df_s,_,_,_,_ = get_data(\"milano.h5\")"
   ]
  },
  {
   "cell_type": "code",
   "execution_count": 44,
   "id": "a28e1c7c",
   "metadata": {},
   "outputs": [],
   "source": []
  },
  {
   "cell_type": "code",
   "execution_count": 48,
   "id": "f875db8b",
   "metadata": {},
   "outputs": [],
   "source": [
    "df_reset = df.reset_index()\n",
    "df_reset = df_reset.rename(columns={'index': 'date_time'})\n",
    "\n",
    "train_df = df_reset.iloc[:-24*7].copy()\n",
    "test_df = df_reset.iloc[-24*7:].copy()\n",
    "test_df = restart_index(test_df)"
   ]
  },
  {
   "cell_type": "code",
   "execution_count": 49,
   "id": "a79bd61a",
   "metadata": {},
   "outputs": [],
   "source": [
    "targets=1012"
   ]
  },
  {
   "cell_type": "code",
   "execution_count": 50,
   "id": "9d476ee9",
   "metadata": {},
   "outputs": [
    {
     "data": {
      "image/png": "[encoded data removed]",
      "text/plain": [
       "<Figure size 1000x600 with 1 Axes>"
      ]
     },
     "metadata": {},
     "output_type": "display_data"
    }
   ],
   "source": [
    "plt.figure(figsize=(10, 6))\n",
    "plt.plot(df_reset['date_time'], df_reset[targets])\n",
    "plt.xlabel('Time')\n",
    "plt.ylabel('Traffic Volume')\n",
    "plt.title('Time Series Data')\n",
    "plt.grid(True)\n",
    "plt.show()"
   ]
  },
  {
   "cell_type": "code",
   "execution_count": 60,
   "id": "9dc45bda",
   "metadata": {},
   "outputs": [],
   "source": [
    "### Univariable ###\n",
    "### 데이터 셋 생성 ###\n",
    "window_size = 72\n",
    "forcast_size= 3\n",
    "batch_size = 20\n",
    "targets = 1012\n",
    "date = 'date_time'\n",
    "\n",
    "#train_df_fe, test_df_fe, mean_, std_ = standardization(train_df, test_df, 'date_time', targets)\n",
    "#def time_slide_df(df, window_size, forcast_size, date, target):\n",
    "    \n",
    "train_x, train_y, train_date = time_slide_df(train_df, window_size, forcast_size, date, targets)\n",
    "test_x, test_y, test_date = time_slide_df(test_df, window_size, forcast_size, date, targets)\n"
   ]
  },
  {
   "cell_type": "code",
   "execution_count": 61,
   "id": "28456be9",
   "metadata": {},
   "outputs": [],
   "source": [
    "train_ds = Data(train_x[:1000], train_y[:1000])\n",
    "valid_ds = Data(train_x[1000:], train_y[1000:])\n",
    "test_ds = Data(test_x, test_y)\n",
    "\n",
    "train_dl = DataLoader(train_ds, batch_size = batch_size, shuffle=True,)\n",
    "\n",
    "valid_dl = DataLoader(valid_ds, batch_size = train_x[1000:].shape[0], shuffle=False)\n",
    "test_dl  = DataLoader(test_ds,  batch_size = test_x.shape[0], shuffle=False)"
   ]
  },
  {
   "cell_type": "code",
   "execution_count": 62,
   "id": "009754f7",
   "metadata": {},
   "outputs": [
    {
     "name": "stderr",
     "output_type": "stream",
     "text": [
      "  2%|█▎                                                                | 4/200 [00:00<00:10, 18.67it/s]"
     ]
    },
    {
     "name": "stdout",
     "output_type": "stream",
     "text": [
      "valid_loss=0.178, test_los0.156, Model Save\n",
      "epoch = 1, train_loss : 0.357, valid_loss : 0.178, test_loss : 0.156\n",
      "valid_loss=0.126, test_los0.132, Model Save\n",
      "epoch = 2, train_loss : 0.166, valid_loss : 0.126, test_loss : 0.132\n",
      "valid_loss=0.097, test_los0.116, Model Save\n",
      "epoch = 3, train_loss : 0.130, valid_loss : 0.097, test_loss : 0.116\n",
      "valid_loss=0.082, test_los0.106, Model Save\n",
      "epoch = 4, train_loss : 0.112, valid_loss : 0.082, test_loss : 0.106\n"
     ]
    },
    {
     "name": "stderr",
     "output_type": "stream",
     "text": [
      "  4%|██▋                                                               | 8/200 [00:00<00:09, 19.34it/s]"
     ]
    },
    {
     "name": "stdout",
     "output_type": "stream",
     "text": [
      "valid_loss=0.079, test_los0.102, Model Save\n",
      "epoch = 5, train_loss : 0.101, valid_loss : 0.079, test_loss : 0.102\n",
      "epoch = 6, train_loss : 0.093, valid_loss : 0.081, test_loss : 0.106\n",
      "valid_loss=0.071, test_los0.088, Model Save\n",
      "epoch = 7, train_loss : 0.088, valid_loss : 0.071, test_loss : 0.088\n",
      "valid_loss=0.066, test_los0.090, Model Save\n",
      "epoch = 8, train_loss : 0.083, valid_loss : 0.066, test_loss : 0.090\n"
     ]
    },
    {
     "name": "stderr",
     "output_type": "stream",
     "text": [
      "  6%|███▉                                                             | 12/200 [00:00<00:09, 19.59it/s]"
     ]
    },
    {
     "name": "stdout",
     "output_type": "stream",
     "text": [
      "valid_loss=0.065, test_los0.076, Model Save\n",
      "epoch = 9, train_loss : 0.079, valid_loss : 0.065, test_loss : 0.076\n",
      "valid_loss=0.059, test_los0.078, Model Save\n",
      "epoch = 10, train_loss : 0.078, valid_loss : 0.059, test_loss : 0.078\n",
      "epoch = 11, train_loss : 0.076, valid_loss : 0.067, test_loss : 0.089\n",
      "epoch = 12, train_loss : 0.074, valid_loss : 0.063, test_loss : 0.082\n"
     ]
    },
    {
     "name": "stderr",
     "output_type": "stream",
     "text": [
      "  8%|█████▏                                                           | 16/200 [00:00<00:09, 19.74it/s]"
     ]
    },
    {
     "name": "stdout",
     "output_type": "stream",
     "text": [
      "valid_loss=0.057, test_los0.077, Model Save\n",
      "epoch = 13, train_loss : 0.072, valid_loss : 0.057, test_loss : 0.077\n",
      "epoch = 14, train_loss : 0.071, valid_loss : 0.062, test_loss : 0.069\n",
      "epoch = 15, train_loss : 0.070, valid_loss : 0.059, test_loss : 0.070\n",
      "epoch = 16, train_loss : 0.069, valid_loss : 0.062, test_loss : 0.074\n",
      "epoch = 17, train_loss : 0.068, valid_loss : 0.059, test_loss : 0.063\n"
     ]
    },
    {
     "name": "stderr",
     "output_type": "stream",
     "text": [
      " 10%|██████▌                                                          | 20/200 [00:01<00:09, 19.80it/s]"
     ]
    },
    {
     "name": "stdout",
     "output_type": "stream",
     "text": [
      "epoch = 18, train_loss : 0.067, valid_loss : 0.060, test_loss : 0.077\n",
      "epoch = 19, train_loss : 0.067, valid_loss : 0.058, test_loss : 0.074\n",
      "valid_loss=0.056, test_los0.078, Model Save\n",
      "epoch = 20, train_loss : 0.067, valid_loss : 0.056, test_loss : 0.078\n",
      "epoch = 21, train_loss : 0.066, valid_loss : 0.058, test_loss : 0.066\n"
     ]
    },
    {
     "name": "stderr",
     "output_type": "stream",
     "text": [
      " 12%|███████▊                                                         | 24/200 [00:01<00:08, 19.79it/s]"
     ]
    },
    {
     "name": "stdout",
     "output_type": "stream",
     "text": [
      "valid_loss=0.055, test_los0.066, Model Save\n",
      "epoch = 22, train_loss : 0.065, valid_loss : 0.055, test_loss : 0.066\n",
      "epoch = 23, train_loss : 0.066, valid_loss : 0.056, test_loss : 0.065\n",
      "valid_loss=0.054, test_los0.070, Model Save\n",
      "epoch = 24, train_loss : 0.066, valid_loss : 0.054, test_loss : 0.070\n",
      "epoch = 25, train_loss : 0.066, valid_loss : 0.056, test_loss : 0.069\n"
     ]
    },
    {
     "name": "stderr",
     "output_type": "stream",
     "text": [
      " 14%|█████████                                                        | 28/200 [00:01<00:08, 19.87it/s]"
     ]
    },
    {
     "name": "stdout",
     "output_type": "stream",
     "text": [
      "epoch = 26, train_loss : 0.064, valid_loss : 0.062, test_loss : 0.079\n",
      "epoch = 27, train_loss : 0.065, valid_loss : 0.057, test_loss : 0.065\n",
      "epoch = 28, train_loss : 0.064, valid_loss : 0.057, test_loss : 0.064\n",
      "epoch = 29, train_loss : 0.064, valid_loss : 0.058, test_loss : 0.061\n",
      "valid_loss=0.053, test_los0.065, Model Save\n"
     ]
    },
    {
     "name": "stderr",
     "output_type": "stream",
     "text": [
      " 17%|███████████                                                      | 34/200 [00:01<00:08, 19.91it/s]"
     ]
    },
    {
     "name": "stdout",
     "output_type": "stream",
     "text": [
      "epoch = 30, train_loss : 0.064, valid_loss : 0.053, test_loss : 0.065\n",
      "epoch = 31, train_loss : 0.063, valid_loss : 0.061, test_loss : 0.077\n",
      "epoch = 32, train_loss : 0.063, valid_loss : 0.057, test_loss : 0.078\n",
      "epoch = 33, train_loss : 0.063, valid_loss : 0.054, test_loss : 0.058\n",
      "epoch = 34, train_loss : 0.063, valid_loss : 0.060, test_loss : 0.065\n"
     ]
    },
    {
     "name": "stderr",
     "output_type": "stream",
     "text": [
      " 19%|████████████▎                                                    | 38/200 [00:01<00:08, 19.89it/s]"
     ]
    },
    {
     "name": "stdout",
     "output_type": "stream",
     "text": [
      "epoch = 35, train_loss : 0.063, valid_loss : 0.055, test_loss : 0.065\n",
      "valid_loss=0.053, test_los0.061, Model Save\n",
      "epoch = 36, train_loss : 0.063, valid_loss : 0.053, test_loss : 0.061\n",
      "epoch = 37, train_loss : 0.063, valid_loss : 0.055, test_loss : 0.068\n",
      "epoch = 38, train_loss : 0.063, valid_loss : 0.054, test_loss : 0.066\n"
     ]
    },
    {
     "name": "stderr",
     "output_type": "stream",
     "text": [
      " 21%|█████████████▋                                                   | 42/200 [00:02<00:07, 19.90it/s]"
     ]
    },
    {
     "name": "stdout",
     "output_type": "stream",
     "text": [
      "epoch = 39, train_loss : 0.062, valid_loss : 0.057, test_loss : 0.063\n",
      "epoch = 40, train_loss : 0.062, valid_loss : 0.058, test_loss : 0.067\n",
      "epoch = 41, train_loss : 0.062, valid_loss : 0.055, test_loss : 0.067\n",
      "epoch = 42, train_loss : 0.063, valid_loss : 0.058, test_loss : 0.062\n",
      "epoch = 43, train_loss : 0.062, valid_loss : 0.056, test_loss : 0.066\n"
     ]
    },
    {
     "name": "stderr",
     "output_type": "stream",
     "text": [
      " 24%|███████████████▌                                                 | 48/200 [00:02<00:07, 19.91it/s]"
     ]
    },
    {
     "name": "stdout",
     "output_type": "stream",
     "text": [
      "epoch = 44, train_loss : 0.062, valid_loss : 0.058, test_loss : 0.074\n",
      "epoch = 45, train_loss : 0.061, valid_loss : 0.056, test_loss : 0.063\n",
      "epoch = 46, train_loss : 0.062, valid_loss : 0.060, test_loss : 0.063\n",
      "epoch = 47, train_loss : 0.062, valid_loss : 0.056, test_loss : 0.074\n",
      "epoch = 48, train_loss : 0.062, valid_loss : 0.058, test_loss : 0.069\n"
     ]
    },
    {
     "name": "stderr",
     "output_type": "stream",
     "text": [
      " 26%|████████████████▉                                                | 52/200 [00:02<00:07, 19.91it/s]"
     ]
    },
    {
     "name": "stdout",
     "output_type": "stream",
     "text": [
      "epoch = 49, train_loss : 0.062, valid_loss : 0.056, test_loss : 0.057\n",
      "epoch = 50, train_loss : 0.062, valid_loss : 0.054, test_loss : 0.065\n",
      "epoch = 51, train_loss : 0.062, valid_loss : 0.057, test_loss : 0.070\n",
      "epoch = 52, train_loss : 0.063, valid_loss : 0.055, test_loss : 0.073\n",
      "epoch = 53, train_loss : 0.062, valid_loss : 0.056, test_loss : 0.065\n"
     ]
    },
    {
     "name": "stderr",
     "output_type": "stream",
     "text": [
      " 28%|██████████████████▏                                              | 56/200 [00:02<00:07, 19.89it/s]"
     ]
    },
    {
     "name": "stdout",
     "output_type": "stream",
     "text": [
      "epoch = 54, train_loss : 0.062, valid_loss : 0.066, test_loss : 0.065\n",
      "epoch = 55, train_loss : 0.062, valid_loss : 0.058, test_loss : 0.068\n",
      "epoch = 56, train_loss : 0.061, valid_loss : 0.063, test_loss : 0.069\n",
      "epoch = 57, train_loss : 0.062, valid_loss : 0.059, test_loss : 0.062\n",
      "epoch = 58, train_loss : 0.061, valid_loss : 0.058, test_loss : 0.058\n"
     ]
    },
    {
     "name": "stderr",
     "output_type": "stream",
     "text": [
      " 31%|████████████████████▏                                            | 62/200 [00:03<00:06, 19.85it/s]"
     ]
    },
    {
     "name": "stdout",
     "output_type": "stream",
     "text": [
      "epoch = 59, train_loss : 0.062, valid_loss : 0.055, test_loss : 0.064\n",
      "epoch = 60, train_loss : 0.061, valid_loss : 0.054, test_loss : 0.069\n",
      "epoch = 61, train_loss : 0.061, valid_loss : 0.057, test_loss : 0.066\n",
      "epoch = 62, train_loss : 0.061, valid_loss : 0.054, test_loss : 0.065\n"
     ]
    },
    {
     "name": "stderr",
     "output_type": "stream",
     "text": [
      " 33%|█████████████████████▍                                           | 66/200 [00:03<00:06, 19.83it/s]"
     ]
    },
    {
     "name": "stdout",
     "output_type": "stream",
     "text": [
      "epoch = 63, train_loss : 0.061, valid_loss : 0.054, test_loss : 0.066\n",
      "epoch = 64, train_loss : 0.061, valid_loss : 0.054, test_loss : 0.072\n",
      "epoch = 65, train_loss : 0.062, valid_loss : 0.055, test_loss : 0.076\n",
      "epoch = 66, train_loss : 0.061, valid_loss : 0.065, test_loss : 0.072\n"
     ]
    },
    {
     "name": "stderr",
     "output_type": "stream",
     "text": [
      " 35%|██████████████████████▊                                          | 70/200 [00:03<00:06, 19.82it/s]"
     ]
    },
    {
     "name": "stdout",
     "output_type": "stream",
     "text": [
      "epoch = 67, train_loss : 0.063, valid_loss : 0.067, test_loss : 0.070\n",
      "epoch = 68, train_loss : 0.063, valid_loss : 0.057, test_loss : 0.075\n",
      "epoch = 69, train_loss : 0.060, valid_loss : 0.054, test_loss : 0.065\n",
      "epoch = 70, train_loss : 0.062, valid_loss : 0.058, test_loss : 0.080\n"
     ]
    },
    {
     "name": "stderr",
     "output_type": "stream",
     "text": [
      " 37%|████████████████████████                                         | 74/200 [00:03<00:06, 19.83it/s]"
     ]
    },
    {
     "name": "stdout",
     "output_type": "stream",
     "text": [
      "epoch = 71, train_loss : 0.061, valid_loss : 0.063, test_loss : 0.077\n",
      "epoch = 72, train_loss : 0.061, valid_loss : 0.060, test_loss : 0.073\n",
      "epoch = 73, train_loss : 0.061, valid_loss : 0.055, test_loss : 0.072\n",
      "epoch = 74, train_loss : 0.061, valid_loss : 0.056, test_loss : 0.058\n"
     ]
    },
    {
     "name": "stderr",
     "output_type": "stream",
     "text": [
      " 39%|█████████████████████████▎                                       | 78/200 [00:03<00:06, 19.83it/s]"
     ]
    },
    {
     "name": "stdout",
     "output_type": "stream",
     "text": [
      "epoch = 75, train_loss : 0.061, valid_loss : 0.060, test_loss : 0.065\n",
      "epoch = 76, train_loss : 0.061, valid_loss : 0.054, test_loss : 0.059\n",
      "epoch = 77, train_loss : 0.061, valid_loss : 0.055, test_loss : 0.064\n",
      "epoch = 78, train_loss : 0.061, valid_loss : 0.054, test_loss : 0.066\n"
     ]
    },
    {
     "name": "stderr",
     "output_type": "stream",
     "text": [
      " 41%|██████████████████████████▋                                      | 82/200 [00:04<00:05, 19.84it/s]"
     ]
    },
    {
     "name": "stdout",
     "output_type": "stream",
     "text": [
      "epoch = 79, train_loss : 0.062, valid_loss : 0.057, test_loss : 0.068\n",
      "epoch = 80, train_loss : 0.061, valid_loss : 0.059, test_loss : 0.061\n",
      "epoch = 81, train_loss : 0.061, valid_loss : 0.057, test_loss : 0.077\n",
      "epoch = 82, train_loss : 0.060, valid_loss : 0.062, test_loss : 0.076\n"
     ]
    },
    {
     "name": "stderr",
     "output_type": "stream",
     "text": [
      " 43%|███████████████████████████▉                                     | 86/200 [00:04<00:05, 19.85it/s]"
     ]
    },
    {
     "name": "stdout",
     "output_type": "stream",
     "text": [
      "epoch = 83, train_loss : 0.061, valid_loss : 0.059, test_loss : 0.063\n",
      "epoch = 84, train_loss : 0.061, valid_loss : 0.063, test_loss : 0.065\n",
      "epoch = 85, train_loss : 0.062, valid_loss : 0.056, test_loss : 0.065\n",
      "epoch = 86, train_loss : 0.061, valid_loss : 0.056, test_loss : 0.068\n"
     ]
    },
    {
     "name": "stderr",
     "output_type": "stream",
     "text": [
      " 45%|█████████████████████████████▎                                   | 90/200 [00:04<00:05, 19.84it/s]"
     ]
    },
    {
     "name": "stdout",
     "output_type": "stream",
     "text": [
      "epoch = 87, train_loss : 0.060, valid_loss : 0.061, test_loss : 0.072\n",
      "epoch = 88, train_loss : 0.061, valid_loss : 0.053, test_loss : 0.062\n",
      "epoch = 89, train_loss : 0.062, valid_loss : 0.055, test_loss : 0.058\n",
      "epoch = 90, train_loss : 0.062, valid_loss : 0.054, test_loss : 0.060\n"
     ]
    },
    {
     "name": "stderr",
     "output_type": "stream",
     "text": [
      " 47%|██████████████████████████████▌                                  | 94/200 [00:04<00:05, 19.86it/s]"
     ]
    },
    {
     "name": "stdout",
     "output_type": "stream",
     "text": [
      "epoch = 91, train_loss : 0.061, valid_loss : 0.057, test_loss : 0.064\n",
      "epoch = 92, train_loss : 0.060, valid_loss : 0.062, test_loss : 0.071\n",
      "epoch = 93, train_loss : 0.061, valid_loss : 0.058, test_loss : 0.066\n",
      "epoch = 94, train_loss : 0.061, valid_loss : 0.057, test_loss : 0.056\n"
     ]
    },
    {
     "name": "stderr",
     "output_type": "stream",
     "text": [
      " 49%|███████████████████████████████▊                                 | 98/200 [00:04<00:05, 19.88it/s]"
     ]
    },
    {
     "name": "stdout",
     "output_type": "stream",
     "text": [
      "epoch = 95, train_loss : 0.060, valid_loss : 0.056, test_loss : 0.069\n",
      "epoch = 96, train_loss : 0.061, valid_loss : 0.061, test_loss : 0.078\n",
      "epoch = 97, train_loss : 0.060, valid_loss : 0.054, test_loss : 0.067\n",
      "epoch = 98, train_loss : 0.061, valid_loss : 0.054, test_loss : 0.062\n",
      "epoch = 99, train_loss : 0.061, valid_loss : 0.056, test_loss : 0.059\n"
     ]
    },
    {
     "name": "stderr",
     "output_type": "stream",
     "text": [
      " 52%|█████████████████████████████████▎                              | 104/200 [00:05<00:04, 19.89it/s]"
     ]
    },
    {
     "name": "stdout",
     "output_type": "stream",
     "text": [
      "epoch = 100, train_loss : 0.061, valid_loss : 0.060, test_loss : 0.073\n",
      "epoch = 101, train_loss : 0.060, valid_loss : 0.061, test_loss : 0.082\n",
      "epoch = 102, train_loss : 0.060, valid_loss : 0.054, test_loss : 0.061\n",
      "epoch = 103, train_loss : 0.060, valid_loss : 0.054, test_loss : 0.066\n",
      "epoch = 104, train_loss : 0.061, valid_loss : 0.056, test_loss : 0.075\n"
     ]
    },
    {
     "name": "stderr",
     "output_type": "stream",
     "text": [
      " 54%|██████████████████████████████████▌                             | 108/200 [00:05<00:04, 19.89it/s]"
     ]
    },
    {
     "name": "stdout",
     "output_type": "stream",
     "text": [
      "epoch = 105, train_loss : 0.060, valid_loss : 0.055, test_loss : 0.065\n",
      "epoch = 106, train_loss : 0.060, valid_loss : 0.067, test_loss : 0.082\n",
      "epoch = 107, train_loss : 0.062, valid_loss : 0.058, test_loss : 0.068\n",
      "epoch = 108, train_loss : 0.060, valid_loss : 0.056, test_loss : 0.070\n"
     ]
    },
    {
     "name": "stderr",
     "output_type": "stream",
     "text": [
      " 56%|███████████████████████████████████▊                            | 112/200 [00:05<00:04, 19.90it/s]"
     ]
    },
    {
     "name": "stdout",
     "output_type": "stream",
     "text": [
      "epoch = 109, train_loss : 0.060, valid_loss : 0.059, test_loss : 0.075\n",
      "epoch = 110, train_loss : 0.060, valid_loss : 0.059, test_loss : 0.066\n",
      "epoch = 111, train_loss : 0.060, valid_loss : 0.056, test_loss : 0.057\n",
      "epoch = 112, train_loss : 0.060, valid_loss : 0.055, test_loss : 0.071\n",
      "epoch = 113, train_loss : 0.061, valid_loss : 0.055, test_loss : 0.067\n"
     ]
    },
    {
     "name": "stderr",
     "output_type": "stream",
     "text": [
      " 59%|█████████████████████████████████████▊                          | 118/200 [00:05<00:04, 19.92it/s]"
     ]
    },
    {
     "name": "stdout",
     "output_type": "stream",
     "text": [
      "epoch = 114, train_loss : 0.060, valid_loss : 0.063, test_loss : 0.078\n",
      "epoch = 115, train_loss : 0.060, valid_loss : 0.054, test_loss : 0.055\n",
      "epoch = 116, train_loss : 0.061, valid_loss : 0.053, test_loss : 0.067\n",
      "epoch = 117, train_loss : 0.061, valid_loss : 0.053, test_loss : 0.066\n",
      "epoch = 118, train_loss : 0.061, valid_loss : 0.070, test_loss : 0.082\n"
     ]
    },
    {
     "name": "stderr",
     "output_type": "stream",
     "text": [
      " 61%|███████████████████████████████████████                         | 122/200 [00:06<00:03, 19.92it/s]"
     ]
    },
    {
     "name": "stdout",
     "output_type": "stream",
     "text": [
      "epoch = 119, train_loss : 0.062, valid_loss : 0.057, test_loss : 0.060\n",
      "epoch = 120, train_loss : 0.060, valid_loss : 0.059, test_loss : 0.067\n",
      "epoch = 121, train_loss : 0.060, valid_loss : 0.057, test_loss : 0.067\n",
      "epoch = 122, train_loss : 0.060, valid_loss : 0.059, test_loss : 0.071\n",
      "epoch = 123, train_loss : 0.061, valid_loss : 0.062, test_loss : 0.069\n"
     ]
    },
    {
     "name": "stderr",
     "output_type": "stream",
     "text": [
      " 64%|████████████████████████████████████████▉                       | 128/200 [00:06<00:03, 19.92it/s]"
     ]
    },
    {
     "name": "stdout",
     "output_type": "stream",
     "text": [
      "epoch = 124, train_loss : 0.061, valid_loss : 0.054, test_loss : 0.064\n",
      "epoch = 125, train_loss : 0.061, valid_loss : 0.055, test_loss : 0.061\n",
      "epoch = 126, train_loss : 0.061, valid_loss : 0.055, test_loss : 0.072\n",
      "epoch = 127, train_loss : 0.060, valid_loss : 0.058, test_loss : 0.063\n",
      "epoch = 128, train_loss : 0.060, valid_loss : 0.065, test_loss : 0.079\n"
     ]
    },
    {
     "name": "stderr",
     "output_type": "stream",
     "text": [
      " 66%|██████████████████████████████████████████▏                     | 132/200 [00:06<00:03, 19.90it/s]"
     ]
    },
    {
     "name": "stdout",
     "output_type": "stream",
     "text": [
      "epoch = 129, train_loss : 0.061, valid_loss : 0.055, test_loss : 0.069\n",
      "epoch = 130, train_loss : 0.062, valid_loss : 0.061, test_loss : 0.063\n",
      "epoch = 131, train_loss : 0.060, valid_loss : 0.056, test_loss : 0.068\n",
      "epoch = 132, train_loss : 0.061, valid_loss : 0.058, test_loss : 0.065\n"
     ]
    },
    {
     "name": "stderr",
     "output_type": "stream",
     "text": [
      " 68%|███████████████████████████████████████████▌                    | 136/200 [00:06<00:03, 19.89it/s]"
     ]
    },
    {
     "name": "stdout",
     "output_type": "stream",
     "text": [
      "epoch = 133, train_loss : 0.060, valid_loss : 0.057, test_loss : 0.063\n",
      "epoch = 134, train_loss : 0.060, valid_loss : 0.056, test_loss : 0.069\n",
      "epoch = 135, train_loss : 0.061, valid_loss : 0.062, test_loss : 0.078\n",
      "epoch = 136, train_loss : 0.060, valid_loss : 0.059, test_loss : 0.069\n"
     ]
    },
    {
     "name": "stderr",
     "output_type": "stream",
     "text": [
      " 70%|████████████████████████████████████████████▊                   | 140/200 [00:07<00:03, 19.89it/s]"
     ]
    },
    {
     "name": "stdout",
     "output_type": "stream",
     "text": [
      "epoch = 137, train_loss : 0.060, valid_loss : 0.053, test_loss : 0.063\n",
      "epoch = 138, train_loss : 0.060, valid_loss : 0.055, test_loss : 0.065\n",
      "epoch = 139, train_loss : 0.060, valid_loss : 0.061, test_loss : 0.079\n",
      "epoch = 140, train_loss : 0.060, valid_loss : 0.056, test_loss : 0.071\n"
     ]
    },
    {
     "name": "stderr",
     "output_type": "stream",
     "text": [
      " 72%|██████████████████████████████████████████████                  | 144/200 [00:07<00:02, 19.89it/s]"
     ]
    },
    {
     "name": "stdout",
     "output_type": "stream",
     "text": [
      "epoch = 141, train_loss : 0.060, valid_loss : 0.061, test_loss : 0.078\n",
      "epoch = 142, train_loss : 0.060, valid_loss : 0.056, test_loss : 0.064\n",
      "epoch = 143, train_loss : 0.061, valid_loss : 0.055, test_loss : 0.061\n",
      "epoch = 144, train_loss : 0.060, valid_loss : 0.053, test_loss : 0.059\n",
      "epoch = 145, train_loss : 0.060, valid_loss : 0.057, test_loss : 0.072\n"
     ]
    },
    {
     "name": "stderr",
     "output_type": "stream",
     "text": [
      " 74%|███████████████████████████████████████████████▎                | 148/200 [00:07<00:02, 19.85it/s]"
     ]
    },
    {
     "name": "stdout",
     "output_type": "stream",
     "text": [
      "epoch = 146, train_loss : 0.061, valid_loss : 0.056, test_loss : 0.069\n",
      "epoch = 147, train_loss : 0.060, valid_loss : 0.054, test_loss : 0.066\n",
      "epoch = 148, train_loss : 0.061, valid_loss : 0.054, test_loss : 0.063\n",
      "epoch = 149, train_loss : 0.060, valid_loss : 0.061, test_loss : 0.074\n"
     ]
    },
    {
     "name": "stderr",
     "output_type": "stream",
     "text": [
      " 76%|████████████████████████████████████████████████▋               | 152/200 [00:07<00:02, 19.85it/s]"
     ]
    },
    {
     "name": "stdout",
     "output_type": "stream",
     "text": [
      "epoch = 150, train_loss : 0.060, valid_loss : 0.061, test_loss : 0.069\n",
      "epoch = 151, train_loss : 0.061, valid_loss : 0.053, test_loss : 0.060\n",
      "epoch = 152, train_loss : 0.060, valid_loss : 0.058, test_loss : 0.071\n",
      "epoch = 153, train_loss : 0.060, valid_loss : 0.059, test_loss : 0.082\n"
     ]
    },
    {
     "name": "stderr",
     "output_type": "stream",
     "text": [
      " 78%|█████████████████████████████████████████████████▉              | 156/200 [00:07<00:02, 19.85it/s]"
     ]
    },
    {
     "name": "stdout",
     "output_type": "stream",
     "text": [
      "epoch = 154, train_loss : 0.059, valid_loss : 0.053, test_loss : 0.058\n",
      "epoch = 155, train_loss : 0.061, valid_loss : 0.058, test_loss : 0.064\n",
      "epoch = 156, train_loss : 0.060, valid_loss : 0.055, test_loss : 0.063\n",
      "epoch = 157, train_loss : 0.061, valid_loss : 0.056, test_loss : 0.065\n"
     ]
    },
    {
     "name": "stderr",
     "output_type": "stream",
     "text": [
      " 80%|███████████████████████████████████████████████████▏            | 160/200 [00:08<00:02, 19.86it/s]"
     ]
    },
    {
     "name": "stdout",
     "output_type": "stream",
     "text": [
      "epoch = 158, train_loss : 0.059, valid_loss : 0.062, test_loss : 0.072\n",
      "epoch = 159, train_loss : 0.061, valid_loss : 0.057, test_loss : 0.068\n",
      "epoch = 160, train_loss : 0.061, valid_loss : 0.059, test_loss : 0.075\n",
      "epoch = 161, train_loss : 0.060, valid_loss : 0.055, test_loss : 0.067\n"
     ]
    },
    {
     "name": "stderr",
     "output_type": "stream",
     "text": [
      " 82%|████████████████████████████████████████████████████▍           | 164/200 [00:08<00:01, 19.86it/s]"
     ]
    },
    {
     "name": "stdout",
     "output_type": "stream",
     "text": [
      "epoch = 162, train_loss : 0.060, valid_loss : 0.061, test_loss : 0.065\n",
      "epoch = 163, train_loss : 0.060, valid_loss : 0.057, test_loss : 0.059\n",
      "epoch = 164, train_loss : 0.060, valid_loss : 0.053, test_loss : 0.059\n",
      "valid_loss=0.053, test_los0.057, Model Save\n",
      "epoch = 165, train_loss : 0.060, valid_loss : 0.053, test_loss : 0.057\n"
     ]
    },
    {
     "name": "stderr",
     "output_type": "stream",
     "text": [
      " 84%|█████████████████████████████████████████████████████▊          | 168/200 [00:08<00:01, 19.83it/s]"
     ]
    },
    {
     "name": "stdout",
     "output_type": "stream",
     "text": [
      "epoch = 166, train_loss : 0.061, valid_loss : 0.056, test_loss : 0.066\n",
      "epoch = 167, train_loss : 0.061, valid_loss : 0.057, test_loss : 0.058\n",
      "epoch = 168, train_loss : 0.060, valid_loss : 0.057, test_loss : 0.067\n",
      "epoch = 169, train_loss : 0.060, valid_loss : 0.059, test_loss : 0.071\n"
     ]
    },
    {
     "name": "stderr",
     "output_type": "stream",
     "text": [
      " 86%|███████████████████████████████████████████████████████         | 172/200 [00:08<00:01, 19.84it/s]"
     ]
    },
    {
     "name": "stdout",
     "output_type": "stream",
     "text": [
      "epoch = 170, train_loss : 0.061, valid_loss : 0.058, test_loss : 0.066\n",
      "epoch = 171, train_loss : 0.060, valid_loss : 0.056, test_loss : 0.064\n",
      "epoch = 172, train_loss : 0.060, valid_loss : 0.056, test_loss : 0.064\n",
      "epoch = 173, train_loss : 0.061, valid_loss : 0.060, test_loss : 0.069\n"
     ]
    },
    {
     "name": "stderr",
     "output_type": "stream",
     "text": [
      " 88%|████████████████████████████████████████████████████████▎       | 176/200 [00:08<00:01, 19.85it/s]"
     ]
    },
    {
     "name": "stdout",
     "output_type": "stream",
     "text": [
      "epoch = 174, train_loss : 0.062, valid_loss : 0.058, test_loss : 0.068\n",
      "epoch = 175, train_loss : 0.060, valid_loss : 0.055, test_loss : 0.059\n",
      "epoch = 176, train_loss : 0.060, valid_loss : 0.058, test_loss : 0.078\n",
      "epoch = 177, train_loss : 0.060, valid_loss : 0.063, test_loss : 0.067\n"
     ]
    },
    {
     "name": "stderr",
     "output_type": "stream",
     "text": [
      " 90%|█████████████████████████████████████████████████████████▌      | 180/200 [00:09<00:01, 19.85it/s]"
     ]
    },
    {
     "name": "stdout",
     "output_type": "stream",
     "text": [
      "epoch = 178, train_loss : 0.061, valid_loss : 0.056, test_loss : 0.067\n",
      "epoch = 179, train_loss : 0.061, valid_loss : 0.059, test_loss : 0.077\n",
      "epoch = 180, train_loss : 0.060, valid_loss : 0.059, test_loss : 0.057\n",
      "epoch = 181, train_loss : 0.060, valid_loss : 0.057, test_loss : 0.069\n"
     ]
    },
    {
     "name": "stderr",
     "output_type": "stream",
     "text": [
      " 92%|██████████████████████████████████████████████████████████▉     | 184/200 [00:09<00:00, 19.84it/s]"
     ]
    },
    {
     "name": "stdout",
     "output_type": "stream",
     "text": [
      "epoch = 182, train_loss : 0.061, valid_loss : 0.056, test_loss : 0.069\n",
      "epoch = 183, train_loss : 0.061, valid_loss : 0.057, test_loss : 0.058\n",
      "epoch = 184, train_loss : 0.060, valid_loss : 0.058, test_loss : 0.070\n",
      "epoch = 185, train_loss : 0.060, valid_loss : 0.056, test_loss : 0.058\n"
     ]
    },
    {
     "name": "stderr",
     "output_type": "stream",
     "text": [
      " 94%|████████████████████████████████████████████████████████████▏   | 188/200 [00:09<00:00, 19.85it/s]"
     ]
    },
    {
     "name": "stdout",
     "output_type": "stream",
     "text": [
      "epoch = 186, train_loss : 0.060, valid_loss : 0.058, test_loss : 0.066\n",
      "epoch = 187, train_loss : 0.060, valid_loss : 0.054, test_loss : 0.064\n",
      "epoch = 188, train_loss : 0.060, valid_loss : 0.060, test_loss : 0.073\n",
      "epoch = 189, train_loss : 0.060, valid_loss : 0.057, test_loss : 0.064\n"
     ]
    },
    {
     "name": "stderr",
     "output_type": "stream",
     "text": [
      " 96%|█████████████████████████████████████████████████████████████▍  | 192/200 [00:09<00:00, 19.85it/s]"
     ]
    },
    {
     "name": "stdout",
     "output_type": "stream",
     "text": [
      "epoch = 190, train_loss : 0.061, valid_loss : 0.064, test_loss : 0.072\n",
      "epoch = 191, train_loss : 0.060, valid_loss : 0.055, test_loss : 0.059\n",
      "epoch = 192, train_loss : 0.061, valid_loss : 0.056, test_loss : 0.064\n",
      "epoch = 193, train_loss : 0.060, valid_loss : 0.058, test_loss : 0.064\n"
     ]
    },
    {
     "name": "stderr",
     "output_type": "stream",
     "text": [
      " 98%|██████████████████████████████████████████████████████████████▋ | 196/200 [00:09<00:00, 19.85it/s]"
     ]
    },
    {
     "name": "stdout",
     "output_type": "stream",
     "text": [
      "epoch = 194, train_loss : 0.061, valid_loss : 0.064, test_loss : 0.079\n",
      "epoch = 195, train_loss : 0.061, valid_loss : 0.056, test_loss : 0.075\n",
      "epoch = 196, train_loss : 0.061, valid_loss : 0.055, test_loss : 0.060\n",
      "epoch = 197, train_loss : 0.061, valid_loss : 0.058, test_loss : 0.066\n"
     ]
    },
    {
     "name": "stderr",
     "output_type": "stream",
     "text": [
      "100%|████████████████████████████████████████████████████████████████| 200/200 [00:10<00:00, 19.83it/s]"
     ]
    },
    {
     "name": "stdout",
     "output_type": "stream",
     "text": [
      "epoch = 198, train_loss : 0.060, valid_loss : 0.054, test_loss : 0.059\n",
      "epoch = 199, train_loss : 0.059, valid_loss : 0.055, test_loss : 0.066\n",
      "epoch = 200, train_loss : 0.060, valid_loss : 0.059, test_loss : 0.072\n"
     ]
    },
    {
     "name": "stderr",
     "output_type": "stream",
     "text": [
      "\n"
     ]
    }
   ],
   "source": [
    "\n",
    "### DLinear 모델 학습 ###\n",
    "train_loss_list = []\n",
    "valid_loss_list = []\n",
    "test_loss_list = []\n",
    "epoch = 200\n",
    "lr = 0.001\n",
    "DLinear_model = LTSF_DLinear(\n",
    "                            window_size=window_size,\n",
    "                            forcast_size=forcast_size,\n",
    "                            kernel_size=25,\n",
    "                            individual=False,\n",
    "                            feature_size=1,\n",
    "                            )\n",
    "criterion = torch.nn.MSELoss()\n",
    "optimizer = torch.optim.Adam(DLinear_model.parameters(), lr=lr)\n",
    "max_loss = 999999999\n",
    "\n",
    "for epoch in tqdm(range(1, epoch+1)):\n",
    "    loss_list = []\n",
    "    DLinear_model.train()\n",
    "    for batch_idx, (data, target) in enumerate(train_dl):\n",
    "        optimizer.zero_grad()\n",
    "        output = DLinear_model(data)\n",
    "        loss = criterion(output, target.unsqueeze(-1))\n",
    "        loss.backward()\n",
    "        optimizer.step()\n",
    "        loss_list.append(loss.item())    \n",
    "    train_loss_list.append(np.mean(loss_list))\n",
    "\n",
    "    DLinear_model.eval()\n",
    "    with torch.no_grad():\n",
    "        for data, target in valid_dl:\n",
    "            output = DLinear_model(data)\n",
    "            valid_loss = criterion(output, target.unsqueeze(-1))\n",
    "            valid_loss_list.append(valid_loss)\n",
    "        \n",
    "        for data, target in test_dl:\n",
    "            output = DLinear_model(data)\n",
    "            test_loss = criterion(output, target.unsqueeze(-1))\n",
    "            test_loss_list.append(test_loss)\n",
    "\n",
    "    if valid_loss < max_loss:\n",
    "        torch.save(DLinear_model, 'DLinear_model.pth')\n",
    "        max_loss = valid_loss\n",
    "        print(\"valid_loss={:.3f}, test_los{:.3f}, Model Save\".format(valid_loss, test_loss))\n",
    "        dlinear_best_epoch = epoch\n",
    "        dlinear_best_train_loss = np.mean(loss_list)\n",
    "        dlinear_best_valid_loss = np.mean(valid_loss.item())\n",
    "        dlinear_best_test_loss = np.mean(test_loss.item())\n",
    "\n",
    "    print(\"epoch = {}, train_loss : {:.3f}, valid_loss : {:.3f}, test_loss : {:.3f}\".format(epoch, np.mean(loss_list), valid_loss, test_loss))"
   ]
  },
  {
   "cell_type": "code",
   "execution_count": 38,
   "id": "5c7415df",
   "metadata": {},
   "outputs": [
    {
     "name": "stderr",
     "output_type": "stream",
     "text": [
      "  4%|██▉                                                               | 9/200 [00:00<00:04, 43.78it/s]"
     ]
    },
    {
     "name": "stdout",
     "output_type": "stream",
     "text": [
      "valid_loss=0.329, test_los0.444, Model Save\n",
      "epoch = 1, train_loss : 0.646, valid_loss : 0.329, test_loss : 0.444\n",
      "valid_loss=0.264, test_los0.411, Model Save\n",
      "epoch = 2, train_loss : 0.306, valid_loss : 0.264, test_loss : 0.411\n",
      "valid_loss=0.239, test_los0.396, Model Save\n",
      "epoch = 3, train_loss : 0.257, valid_loss : 0.239, test_loss : 0.396\n",
      "valid_loss=0.220, test_los0.385, Model Save\n",
      "epoch = 4, train_loss : 0.229, valid_loss : 0.220, test_loss : 0.385\n",
      "valid_loss=0.213, test_los0.379, Model Save\n",
      "epoch = 5, train_loss : 0.209, valid_loss : 0.213, test_loss : 0.379\n",
      "valid_loss=0.201, test_los0.370, Model Save\n",
      "epoch = 6, train_loss : 0.196, valid_loss : 0.201, test_loss : 0.370\n",
      "valid_loss=0.197, test_los0.363, Model Save\n",
      "epoch = 7, train_loss : 0.190, valid_loss : 0.197, test_loss : 0.363\n",
      "valid_loss=0.194, test_los0.361, Model Save\n",
      "epoch = 8, train_loss : 0.181, valid_loss : 0.194, test_loss : 0.361\n",
      "epoch = 9, train_loss : 0.178, valid_loss : 0.198, test_loss : 0.352\n",
      "valid_loss=0.185, test_los0.348, Model Save\n",
      "epoch = 10, train_loss : 0.175, valid_loss : 0.185, test_loss : 0.348\n"
     ]
    },
    {
     "name": "stderr",
     "output_type": "stream",
     "text": [
      " 10%|██████▏                                                          | 19/200 [00:00<00:03, 46.56it/s]"
     ]
    },
    {
     "name": "stdout",
     "output_type": "stream",
     "text": [
      "valid_loss=0.184, test_los0.348, Model Save\n",
      "epoch = 11, train_loss : 0.173, valid_loss : 0.184, test_loss : 0.348\n",
      "epoch = 12, train_loss : 0.168, valid_loss : 0.188, test_loss : 0.343\n",
      "valid_loss=0.178, test_los0.337, Model Save\n",
      "epoch = 13, train_loss : 0.167, valid_loss : 0.178, test_loss : 0.337\n",
      "valid_loss=0.176, test_los0.335, Model Save\n",
      "epoch = 14, train_loss : 0.165, valid_loss : 0.176, test_loss : 0.335\n",
      "epoch = 15, train_loss : 0.164, valid_loss : 0.180, test_loss : 0.331\n",
      "epoch = 16, train_loss : 0.161, valid_loss : 0.181, test_loss : 0.331\n",
      "valid_loss=0.170, test_los0.327, Model Save\n",
      "epoch = 17, train_loss : 0.163, valid_loss : 0.170, test_loss : 0.327\n",
      "valid_loss=0.169, test_los0.327, Model Save\n",
      "epoch = 18, train_loss : 0.159, valid_loss : 0.169, test_loss : 0.327\n",
      "epoch = 19, train_loss : 0.158, valid_loss : 0.179, test_loss : 0.327\n",
      "valid_loss=0.168, test_los0.325, Model Save\n",
      "epoch = 20, train_loss : 0.157, valid_loss : 0.168, test_loss : 0.325\n"
     ]
    },
    {
     "name": "stderr",
     "output_type": "stream",
     "text": [
      " 14%|█████████▍                                                       | 29/200 [00:00<00:03, 47.48it/s]"
     ]
    },
    {
     "name": "stdout",
     "output_type": "stream",
     "text": [
      "epoch = 21, train_loss : 0.156, valid_loss : 0.171, test_loss : 0.319\n",
      "valid_loss=0.166, test_los0.316, Model Save\n",
      "epoch = 22, train_loss : 0.154, valid_loss : 0.166, test_loss : 0.316\n",
      "epoch = 23, train_loss : 0.155, valid_loss : 0.177, test_loss : 0.317\n",
      "epoch = 24, train_loss : 0.153, valid_loss : 0.167, test_loss : 0.319\n",
      "valid_loss=0.163, test_los0.313, Model Save\n",
      "epoch = 25, train_loss : 0.153, valid_loss : 0.163, test_loss : 0.313\n",
      "epoch = 26, train_loss : 0.150, valid_loss : 0.177, test_loss : 0.316\n",
      "epoch = 27, train_loss : 0.151, valid_loss : 0.165, test_loss : 0.317\n",
      "valid_loss=0.159, test_los0.313, Model Save\n",
      "epoch = 28, train_loss : 0.150, valid_loss : 0.159, test_loss : 0.313\n",
      "epoch = 29, train_loss : 0.151, valid_loss : 0.171, test_loss : 0.310\n",
      "epoch = 30, train_loss : 0.149, valid_loss : 0.166, test_loss : 0.311\n"
     ]
    },
    {
     "name": "stderr",
     "output_type": "stream",
     "text": [
      " 20%|████████████▋                                                    | 39/200 [00:00<00:03, 48.29it/s]"
     ]
    },
    {
     "name": "stdout",
     "output_type": "stream",
     "text": [
      "epoch = 31, train_loss : 0.148, valid_loss : 0.166, test_loss : 0.313\n",
      "epoch = 32, train_loss : 0.150, valid_loss : 0.166, test_loss : 0.309\n",
      "epoch = 33, train_loss : 0.148, valid_loss : 0.163, test_loss : 0.309\n",
      "epoch = 34, train_loss : 0.148, valid_loss : 0.171, test_loss : 0.309\n",
      "epoch = 35, train_loss : 0.148, valid_loss : 0.171, test_loss : 0.312\n",
      "epoch = 36, train_loss : 0.145, valid_loss : 0.167, test_loss : 0.310\n",
      "epoch = 37, train_loss : 0.146, valid_loss : 0.164, test_loss : 0.303\n",
      "epoch = 38, train_loss : 0.145, valid_loss : 0.166, test_loss : 0.306\n",
      "epoch = 39, train_loss : 0.146, valid_loss : 0.165, test_loss : 0.308\n",
      "epoch = 40, train_loss : 0.146, valid_loss : 0.165, test_loss : 0.309\n"
     ]
    },
    {
     "name": "stderr",
     "output_type": "stream",
     "text": [
      " 24%|███████████████▉                                                 | 49/200 [00:01<00:03, 48.58it/s]"
     ]
    },
    {
     "name": "stdout",
     "output_type": "stream",
     "text": [
      "epoch = 41, train_loss : 0.145, valid_loss : 0.160, test_loss : 0.307\n",
      "epoch = 42, train_loss : 0.144, valid_loss : 0.160, test_loss : 0.305\n",
      "epoch = 43, train_loss : 0.144, valid_loss : 0.163, test_loss : 0.305\n",
      "valid_loss=0.158, test_los0.304, Model Save\n",
      "epoch = 44, train_loss : 0.143, valid_loss : 0.158, test_loss : 0.304\n",
      "epoch = 45, train_loss : 0.145, valid_loss : 0.167, test_loss : 0.305\n",
      "epoch = 46, train_loss : 0.143, valid_loss : 0.171, test_loss : 0.304\n",
      "valid_loss=0.157, test_los0.302, Model Save\n",
      "epoch = 47, train_loss : 0.144, valid_loss : 0.157, test_loss : 0.302\n",
      "epoch = 48, train_loss : 0.144, valid_loss : 0.164, test_loss : 0.307\n",
      "epoch = 49, train_loss : 0.145, valid_loss : 0.166, test_loss : 0.307\n",
      "epoch = 50, train_loss : 0.143, valid_loss : 0.159, test_loss : 0.307\n"
     ]
    },
    {
     "name": "stderr",
     "output_type": "stream",
     "text": [
      " 30%|███████████████████▏                                             | 59/200 [00:01<00:02, 48.81it/s]"
     ]
    },
    {
     "name": "stdout",
     "output_type": "stream",
     "text": [
      "epoch = 51, train_loss : 0.142, valid_loss : 0.166, test_loss : 0.302\n",
      "epoch = 52, train_loss : 0.142, valid_loss : 0.163, test_loss : 0.305\n",
      "epoch = 53, train_loss : 0.143, valid_loss : 0.161, test_loss : 0.299\n",
      "epoch = 54, train_loss : 0.144, valid_loss : 0.169, test_loss : 0.303\n",
      "epoch = 55, train_loss : 0.141, valid_loss : 0.168, test_loss : 0.305\n",
      "epoch = 56, train_loss : 0.142, valid_loss : 0.167, test_loss : 0.301\n",
      "epoch = 57, train_loss : 0.141, valid_loss : 0.168, test_loss : 0.304\n",
      "epoch = 58, train_loss : 0.142, valid_loss : 0.162, test_loss : 0.303\n",
      "epoch = 59, train_loss : 0.141, valid_loss : 0.168, test_loss : 0.305\n",
      "epoch = 60, train_loss : 0.141, valid_loss : 0.164, test_loss : 0.303\n"
     ]
    },
    {
     "name": "stderr",
     "output_type": "stream",
     "text": [
      " 34%|██████████████████████▍                                          | 69/200 [00:01<00:02, 48.77it/s]"
     ]
    },
    {
     "name": "stdout",
     "output_type": "stream",
     "text": [
      "epoch = 61, train_loss : 0.142, valid_loss : 0.158, test_loss : 0.299\n",
      "epoch = 62, train_loss : 0.139, valid_loss : 0.173, test_loss : 0.302\n",
      "epoch = 63, train_loss : 0.141, valid_loss : 0.165, test_loss : 0.301\n",
      "valid_loss=0.152, test_los0.295, Model Save\n",
      "epoch = 64, train_loss : 0.141, valid_loss : 0.152, test_loss : 0.295\n",
      "epoch = 65, train_loss : 0.141, valid_loss : 0.169, test_loss : 0.304\n",
      "epoch = 66, train_loss : 0.140, valid_loss : 0.158, test_loss : 0.296\n",
      "epoch = 67, train_loss : 0.140, valid_loss : 0.160, test_loss : 0.301\n",
      "epoch = 68, train_loss : 0.139, valid_loss : 0.158, test_loss : 0.301\n",
      "epoch = 69, train_loss : 0.139, valid_loss : 0.169, test_loss : 0.301\n",
      "epoch = 70, train_loss : 0.140, valid_loss : 0.161, test_loss : 0.296\n"
     ]
    },
    {
     "name": "stderr",
     "output_type": "stream",
     "text": [
      " 40%|█████████████████████████▋                                       | 79/200 [00:01<00:02, 48.82it/s]"
     ]
    },
    {
     "name": "stdout",
     "output_type": "stream",
     "text": [
      "epoch = 71, train_loss : 0.138, valid_loss : 0.161, test_loss : 0.301\n",
      "valid_loss=0.150, test_los0.294, Model Save\n",
      "epoch = 72, train_loss : 0.140, valid_loss : 0.150, test_loss : 0.294\n",
      "epoch = 73, train_loss : 0.139, valid_loss : 0.160, test_loss : 0.299\n",
      "epoch = 74, train_loss : 0.139, valid_loss : 0.161, test_loss : 0.298\n",
      "epoch = 75, train_loss : 0.139, valid_loss : 0.165, test_loss : 0.299\n",
      "epoch = 76, train_loss : 0.139, valid_loss : 0.156, test_loss : 0.298\n",
      "epoch = 77, train_loss : 0.141, valid_loss : 0.159, test_loss : 0.294\n",
      "epoch = 78, train_loss : 0.138, valid_loss : 0.159, test_loss : 0.299\n",
      "epoch = 79, train_loss : 0.139, valid_loss : 0.159, test_loss : 0.297\n",
      "epoch = 80, train_loss : 0.141, valid_loss : 0.157, test_loss : 0.296\n"
     ]
    },
    {
     "name": "stderr",
     "output_type": "stream",
     "text": [
      " 44%|████████████████████████████▉                                    | 89/200 [00:01<00:02, 48.97it/s]"
     ]
    },
    {
     "name": "stdout",
     "output_type": "stream",
     "text": [
      "epoch = 81, train_loss : 0.139, valid_loss : 0.159, test_loss : 0.299\n",
      "epoch = 82, train_loss : 0.138, valid_loss : 0.152, test_loss : 0.298\n",
      "epoch = 83, train_loss : 0.138, valid_loss : 0.162, test_loss : 0.295\n",
      "epoch = 84, train_loss : 0.139, valid_loss : 0.162, test_loss : 0.296\n",
      "epoch = 85, train_loss : 0.138, valid_loss : 0.158, test_loss : 0.294\n",
      "epoch = 86, train_loss : 0.137, valid_loss : 0.158, test_loss : 0.293\n",
      "epoch = 87, train_loss : 0.138, valid_loss : 0.160, test_loss : 0.294\n",
      "epoch = 88, train_loss : 0.140, valid_loss : 0.156, test_loss : 0.296\n",
      "epoch = 89, train_loss : 0.138, valid_loss : 0.164, test_loss : 0.301\n",
      "epoch = 90, train_loss : 0.138, valid_loss : 0.171, test_loss : 0.301\n"
     ]
    },
    {
     "name": "stderr",
     "output_type": "stream",
     "text": [
      " 50%|████████████████████████████████▏                                | 99/200 [00:02<00:02, 48.91it/s]"
     ]
    },
    {
     "name": "stdout",
     "output_type": "stream",
     "text": [
      "epoch = 91, train_loss : 0.138, valid_loss : 0.169, test_loss : 0.298\n",
      "epoch = 92, train_loss : 0.139, valid_loss : 0.173, test_loss : 0.299\n",
      "epoch = 93, train_loss : 0.137, valid_loss : 0.171, test_loss : 0.297\n",
      "epoch = 94, train_loss : 0.139, valid_loss : 0.169, test_loss : 0.297\n",
      "epoch = 95, train_loss : 0.138, valid_loss : 0.153, test_loss : 0.288\n",
      "epoch = 96, train_loss : 0.138, valid_loss : 0.152, test_loss : 0.293\n",
      "epoch = 97, train_loss : 0.137, valid_loss : 0.152, test_loss : 0.294\n",
      "epoch = 98, train_loss : 0.139, valid_loss : 0.160, test_loss : 0.295\n",
      "epoch = 99, train_loss : 0.137, valid_loss : 0.162, test_loss : 0.295\n",
      "epoch = 100, train_loss : 0.139, valid_loss : 0.166, test_loss : 0.295\n"
     ]
    },
    {
     "name": "stderr",
     "output_type": "stream",
     "text": [
      " 55%|██████████████████████████████████▉                             | 109/200 [00:02<00:01, 49.11it/s]"
     ]
    },
    {
     "name": "stdout",
     "output_type": "stream",
     "text": [
      "epoch = 101, train_loss : 0.139, valid_loss : 0.165, test_loss : 0.297\n",
      "epoch = 102, train_loss : 0.140, valid_loss : 0.161, test_loss : 0.296\n",
      "epoch = 103, train_loss : 0.137, valid_loss : 0.171, test_loss : 0.304\n",
      "epoch = 104, train_loss : 0.138, valid_loss : 0.151, test_loss : 0.294\n",
      "epoch = 105, train_loss : 0.138, valid_loss : 0.159, test_loss : 0.296\n",
      "epoch = 106, train_loss : 0.137, valid_loss : 0.152, test_loss : 0.298\n",
      "epoch = 107, train_loss : 0.138, valid_loss : 0.156, test_loss : 0.300\n",
      "epoch = 108, train_loss : 0.137, valid_loss : 0.153, test_loss : 0.294\n",
      "epoch = 109, train_loss : 0.138, valid_loss : 0.160, test_loss : 0.296\n",
      "epoch = 110, train_loss : 0.137, valid_loss : 0.172, test_loss : 0.298\n"
     ]
    },
    {
     "name": "stderr",
     "output_type": "stream",
     "text": [
      " 60%|██████████████████████████████████████                          | 119/200 [00:02<00:01, 49.06it/s]"
     ]
    },
    {
     "name": "stdout",
     "output_type": "stream",
     "text": [
      "epoch = 111, train_loss : 0.137, valid_loss : 0.157, test_loss : 0.300\n",
      "epoch = 112, train_loss : 0.139, valid_loss : 0.153, test_loss : 0.294\n",
      "epoch = 113, train_loss : 0.137, valid_loss : 0.157, test_loss : 0.291\n",
      "epoch = 114, train_loss : 0.138, valid_loss : 0.158, test_loss : 0.297\n",
      "epoch = 115, train_loss : 0.138, valid_loss : 0.155, test_loss : 0.294\n",
      "epoch = 116, train_loss : 0.138, valid_loss : 0.160, test_loss : 0.293\n",
      "epoch = 117, train_loss : 0.139, valid_loss : 0.166, test_loss : 0.303\n",
      "epoch = 118, train_loss : 0.138, valid_loss : 0.167, test_loss : 0.304\n",
      "epoch = 119, train_loss : 0.138, valid_loss : 0.153, test_loss : 0.293\n",
      "epoch = 120, train_loss : 0.137, valid_loss : 0.159, test_loss : 0.296\n"
     ]
    },
    {
     "name": "stderr",
     "output_type": "stream",
     "text": [
      " 64%|█████████████████████████████████████████▎                      | 129/200 [00:02<00:01, 48.85it/s]"
     ]
    },
    {
     "name": "stdout",
     "output_type": "stream",
     "text": [
      "epoch = 121, train_loss : 0.137, valid_loss : 0.163, test_loss : 0.297\n",
      "epoch = 122, train_loss : 0.138, valid_loss : 0.159, test_loss : 0.293\n",
      "epoch = 123, train_loss : 0.137, valid_loss : 0.156, test_loss : 0.290\n",
      "epoch = 124, train_loss : 0.137, valid_loss : 0.159, test_loss : 0.295\n",
      "epoch = 125, train_loss : 0.137, valid_loss : 0.164, test_loss : 0.297\n",
      "epoch = 126, train_loss : 0.138, valid_loss : 0.160, test_loss : 0.297\n",
      "epoch = 127, train_loss : 0.139, valid_loss : 0.153, test_loss : 0.294\n",
      "epoch = 128, train_loss : 0.138, valid_loss : 0.158, test_loss : 0.298\n",
      "epoch = 129, train_loss : 0.136, valid_loss : 0.170, test_loss : 0.299\n",
      "epoch = 130, train_loss : 0.136, valid_loss : 0.155, test_loss : 0.294\n"
     ]
    },
    {
     "name": "stderr",
     "output_type": "stream",
     "text": [
      " 70%|████████████████████████████████████████████▍                   | 139/200 [00:02<00:01, 48.74it/s]"
     ]
    },
    {
     "name": "stdout",
     "output_type": "stream",
     "text": [
      "epoch = 131, train_loss : 0.138, valid_loss : 0.155, test_loss : 0.291\n",
      "epoch = 132, train_loss : 0.138, valid_loss : 0.162, test_loss : 0.301\n",
      "epoch = 133, train_loss : 0.137, valid_loss : 0.158, test_loss : 0.297\n",
      "epoch = 134, train_loss : 0.136, valid_loss : 0.166, test_loss : 0.293\n",
      "epoch = 135, train_loss : 0.136, valid_loss : 0.165, test_loss : 0.293\n",
      "epoch = 136, train_loss : 0.138, valid_loss : 0.151, test_loss : 0.291\n",
      "epoch = 137, train_loss : 0.134, valid_loss : 0.164, test_loss : 0.297\n",
      "epoch = 138, train_loss : 0.137, valid_loss : 0.158, test_loss : 0.291\n",
      "epoch = 139, train_loss : 0.136, valid_loss : 0.161, test_loss : 0.293\n",
      "epoch = 140, train_loss : 0.138, valid_loss : 0.162, test_loss : 0.293\n"
     ]
    },
    {
     "name": "stderr",
     "output_type": "stream",
     "text": [
      " 74%|███████████████████████████████████████████████▋                | 149/200 [00:03<00:01, 48.69it/s]"
     ]
    },
    {
     "name": "stdout",
     "output_type": "stream",
     "text": [
      "epoch = 141, train_loss : 0.136, valid_loss : 0.164, test_loss : 0.296\n",
      "epoch = 142, train_loss : 0.136, valid_loss : 0.161, test_loss : 0.291\n",
      "epoch = 143, train_loss : 0.137, valid_loss : 0.165, test_loss : 0.297\n",
      "epoch = 144, train_loss : 0.137, valid_loss : 0.159, test_loss : 0.297\n",
      "epoch = 145, train_loss : 0.136, valid_loss : 0.153, test_loss : 0.295\n",
      "epoch = 146, train_loss : 0.136, valid_loss : 0.166, test_loss : 0.296\n",
      "epoch = 147, train_loss : 0.136, valid_loss : 0.157, test_loss : 0.294\n",
      "valid_loss=0.148, test_los0.292, Model Save\n",
      "epoch = 148, train_loss : 0.138, valid_loss : 0.148, test_loss : 0.292\n",
      "epoch = 149, train_loss : 0.137, valid_loss : 0.153, test_loss : 0.294\n",
      "epoch = 150, train_loss : 0.136, valid_loss : 0.158, test_loss : 0.297\n"
     ]
    },
    {
     "name": "stderr",
     "output_type": "stream",
     "text": [
      " 80%|██████████████████████████████████████████████████▉             | 159/200 [00:03<00:00, 48.63it/s]"
     ]
    },
    {
     "name": "stdout",
     "output_type": "stream",
     "text": [
      "epoch = 151, train_loss : 0.136, valid_loss : 0.159, test_loss : 0.290\n",
      "epoch = 152, train_loss : 0.136, valid_loss : 0.169, test_loss : 0.295\n",
      "epoch = 153, train_loss : 0.137, valid_loss : 0.157, test_loss : 0.291\n",
      "epoch = 154, train_loss : 0.139, valid_loss : 0.163, test_loss : 0.298\n",
      "epoch = 155, train_loss : 0.136, valid_loss : 0.162, test_loss : 0.295\n",
      "epoch = 156, train_loss : 0.136, valid_loss : 0.156, test_loss : 0.294\n",
      "epoch = 157, train_loss : 0.136, valid_loss : 0.153, test_loss : 0.293\n",
      "epoch = 158, train_loss : 0.136, valid_loss : 0.157, test_loss : 0.293\n",
      "epoch = 159, train_loss : 0.136, valid_loss : 0.171, test_loss : 0.297\n",
      "epoch = 160, train_loss : 0.137, valid_loss : 0.169, test_loss : 0.293\n"
     ]
    },
    {
     "name": "stderr",
     "output_type": "stream",
     "text": [
      " 84%|██████████████████████████████████████████████████████          | 169/200 [00:03<00:00, 48.65it/s]"
     ]
    },
    {
     "name": "stdout",
     "output_type": "stream",
     "text": [
      "epoch = 161, train_loss : 0.137, valid_loss : 0.168, test_loss : 0.296\n",
      "epoch = 162, train_loss : 0.138, valid_loss : 0.165, test_loss : 0.296\n",
      "epoch = 163, train_loss : 0.136, valid_loss : 0.157, test_loss : 0.294\n",
      "epoch = 164, train_loss : 0.139, valid_loss : 0.169, test_loss : 0.298\n",
      "epoch = 165, train_loss : 0.137, valid_loss : 0.158, test_loss : 0.294\n",
      "epoch = 166, train_loss : 0.135, valid_loss : 0.160, test_loss : 0.294\n",
      "epoch = 167, train_loss : 0.137, valid_loss : 0.160, test_loss : 0.291\n",
      "valid_loss=0.148, test_los0.291, Model Save\n",
      "epoch = 168, train_loss : 0.137, valid_loss : 0.148, test_loss : 0.291\n",
      "epoch = 169, train_loss : 0.137, valid_loss : 0.153, test_loss : 0.292\n",
      "epoch = 170, train_loss : 0.136, valid_loss : 0.155, test_loss : 0.292\n"
     ]
    },
    {
     "name": "stderr",
     "output_type": "stream",
     "text": [
      " 90%|█████████████████████████████████████████████████████████▎      | 179/200 [00:03<00:00, 48.73it/s]"
     ]
    },
    {
     "name": "stdout",
     "output_type": "stream",
     "text": [
      "epoch = 171, train_loss : 0.136, valid_loss : 0.153, test_loss : 0.292\n",
      "epoch = 172, train_loss : 0.134, valid_loss : 0.153, test_loss : 0.293\n",
      "epoch = 173, train_loss : 0.137, valid_loss : 0.155, test_loss : 0.293\n",
      "epoch = 174, train_loss : 0.136, valid_loss : 0.157, test_loss : 0.291\n",
      "epoch = 175, train_loss : 0.137, valid_loss : 0.162, test_loss : 0.294\n",
      "epoch = 176, train_loss : 0.136, valid_loss : 0.162, test_loss : 0.295\n",
      "epoch = 177, train_loss : 0.136, valid_loss : 0.155, test_loss : 0.294\n",
      "epoch = 178, train_loss : 0.138, valid_loss : 0.155, test_loss : 0.294\n",
      "epoch = 179, train_loss : 0.137, valid_loss : 0.158, test_loss : 0.292\n",
      "epoch = 180, train_loss : 0.136, valid_loss : 0.158, test_loss : 0.296\n"
     ]
    },
    {
     "name": "stderr",
     "output_type": "stream",
     "text": [
      " 94%|████████████████████████████████████████████████████████████▍   | 189/200 [00:03<00:00, 48.65it/s]"
     ]
    },
    {
     "name": "stdout",
     "output_type": "stream",
     "text": [
      "epoch = 181, train_loss : 0.136, valid_loss : 0.159, test_loss : 0.296\n",
      "epoch = 182, train_loss : 0.137, valid_loss : 0.172, test_loss : 0.294\n",
      "epoch = 183, train_loss : 0.137, valid_loss : 0.162, test_loss : 0.296\n",
      "epoch = 184, train_loss : 0.136, valid_loss : 0.159, test_loss : 0.292\n",
      "epoch = 185, train_loss : 0.134, valid_loss : 0.160, test_loss : 0.289\n",
      "epoch = 186, train_loss : 0.135, valid_loss : 0.154, test_loss : 0.292\n",
      "epoch = 187, train_loss : 0.135, valid_loss : 0.162, test_loss : 0.292\n",
      "valid_loss=0.147, test_los0.286, Model Save\n",
      "epoch = 188, train_loss : 0.137, valid_loss : 0.147, test_loss : 0.286\n",
      "epoch = 189, train_loss : 0.136, valid_loss : 0.157, test_loss : 0.293\n",
      "epoch = 190, train_loss : 0.136, valid_loss : 0.153, test_loss : 0.293\n"
     ]
    },
    {
     "name": "stderr",
     "output_type": "stream",
     "text": [
      "100%|████████████████████████████████████████████████████████████████| 200/200 [00:04<00:00, 48.41it/s]"
     ]
    },
    {
     "name": "stdout",
     "output_type": "stream",
     "text": [
      "epoch = 191, train_loss : 0.134, valid_loss : 0.157, test_loss : 0.297\n",
      "epoch = 192, train_loss : 0.135, valid_loss : 0.163, test_loss : 0.290\n",
      "epoch = 193, train_loss : 0.136, valid_loss : 0.156, test_loss : 0.295\n",
      "epoch = 194, train_loss : 0.135, valid_loss : 0.163, test_loss : 0.297\n",
      "epoch = 195, train_loss : 0.135, valid_loss : 0.156, test_loss : 0.292\n",
      "epoch = 196, train_loss : 0.135, valid_loss : 0.157, test_loss : 0.293\n",
      "epoch = 197, train_loss : 0.137, valid_loss : 0.159, test_loss : 0.292\n",
      "epoch = 198, train_loss : 0.137, valid_loss : 0.155, test_loss : 0.293\n",
      "epoch = 199, train_loss : 0.135, valid_loss : 0.155, test_loss : 0.289\n",
      "epoch = 200, train_loss : 0.137, valid_loss : 0.152, test_loss : 0.289\n"
     ]
    },
    {
     "name": "stderr",
     "output_type": "stream",
     "text": [
      "\n"
     ]
    }
   ],
   "source": [
    "### Llinear모델 학습 ###\n",
    "train_loss_list = []\n",
    "valid_loss_list = []\n",
    "test_loss_list = []\n",
    "epoch = 200\n",
    "lr = 0.001\n",
    "Linear_model = LTSF_Linear(\n",
    "                            window_size=window_size,\n",
    "                            forcast_size=forcast_size,\n",
    "                            individual=False,\n",
    "                            feature_size=1,\n",
    "                            )\n",
    "criterion = torch.nn.MSELoss()\n",
    "optimizer = torch.optim.Adam(Linear_model.parameters(), lr=lr)\n",
    "max_loss = 999999999\n",
    "\n",
    "for epoch in tqdm(range(1, epoch+1)):\n",
    "    loss_list = []\n",
    "    Linear_model.train()\n",
    "    for batch_idx, (data, target) in enumerate(train_dl):\n",
    "        optimizer.zero_grad()\n",
    "        output = Linear_model(data)\n",
    "        loss = criterion(output, target.unsqueeze(-1))\n",
    "        loss.backward()\n",
    "        optimizer.step()\n",
    "        loss_list.append(loss.item())    \n",
    "    train_loss_list.append(np.mean(loss_list))\n",
    "\n",
    "    Linear_model.eval()\n",
    "    with torch.no_grad():\n",
    "        for data, target in valid_dl:\n",
    "            output = Linear_model(data)\n",
    "            valid_loss = criterion(output, target.unsqueeze(-1))\n",
    "            valid_loss_list.append(valid_loss)\n",
    "        \n",
    "        for data, target in test_dl:\n",
    "            output = Linear_model(data)\n",
    "            test_loss = criterion(output, target.unsqueeze(-1))\n",
    "            test_loss_list.append(test_loss)\n",
    "\n",
    "    if valid_loss < max_loss:\n",
    "        torch.save(Linear_model, 'Linear_model.pth')\n",
    "        max_loss = valid_loss\n",
    "        print(\"valid_loss={:.3f}, test_los{:.3f}, Model Save\".format(valid_loss, test_loss))\n",
    "        linear_best_epoch = epoch\n",
    "        linear_best_train_loss = np.mean(loss_list)\n",
    "        linear_best_valid_loss = np.mean(valid_loss.item())\n",
    "        linear_best_test_loss = np.mean(test_loss.item())\n",
    "\n",
    "    print(\"epoch = {}, train_loss : {:.3f}, valid_loss : {:.3f}, test_loss : {:.3f}\".format(epoch, np.mean(loss_list), valid_loss, test_loss))"
   ]
  },
  {
   "cell_type": "code",
   "execution_count": 243,
   "id": "98882d2c",
   "metadata": {},
   "outputs": [
    {
     "data": {
      "image/png": "[encoded data removed]",
      "text/plain": [
       "<Figure size 640x480 with 2 Axes>"
      ]
     },
     "metadata": {},
     "output_type": "display_data"
    },
    {
     "data": {
      "image/png": "[encoded data removed]",
      "text/plain": [
       "<Figure size 640x480 with 2 Axes>"
      ]
     },
     "metadata": {},
     "output_type": "display_data"
    }
   ],
   "source": [
    "weights_list = {}\n",
    "weights_list['trend'] = DLinear_model.Linear_Trend.weight.detach().numpy()\n",
    "weights_list['seasonal'] = DLinear_model.Linear_Seasonal.weight.detach().numpy()\n",
    "\n",
    "for name, w in weights_list.items():    \n",
    "    fig, ax = plt.subplots()    \n",
    "    plt.title(name)\n",
    "    im = ax.imshow(w, cmap='plasma_r',)\n",
    "    fig.colorbar(im, pad=0.03)\n",
    "    plt.show()"
   ]
  },
  {
   "cell_type": "code",
   "execution_count": null,
   "id": "9ec0cad0",
   "metadata": {},
   "outputs": [],
   "source": []
  },
  {
   "cell_type": "code",
   "execution_count": null,
   "id": "cfeb4f68",
   "metadata": {},
   "outputs": [],
   "source": []
  }
 ],
 "metadata": {
  "kernelspec": {
   "display_name": "Python 3 (ipykernel)",
   "language": "python",
   "name": "python3"
  },
  "language_info": {
   "codemirror_mode": {
    "name": "ipython",
    "version": 3
   },
   "file_extension": ".py",
   "mimetype": "text/x-python",
   "name": "python",
   "nbconvert_exporter": "python",
   "pygments_lexer": "ipython3",
   "version": "3.8.8"
  }
 },
 "nbformat": 4,
 "nbformat_minor": 5
}
